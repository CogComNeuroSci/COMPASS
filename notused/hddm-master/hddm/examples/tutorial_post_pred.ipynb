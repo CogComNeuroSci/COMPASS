{
 "cells": [
  {
   "cell_type": "markdown",
   "metadata": {},
   "source": [
    "## Posterior Predictive Checks"
   ]
  },
  {
   "cell_type": "markdown",
   "metadata": {},
   "source": [
    "In this tutorial you will learn how to run posterior predictive checks in HDDM.\n",
    "\n",
    "A posterior predictive check is a very useful tool when you want to evaluate if your model can reproduce key patterns in your data. Specifically, you can define a summary statistic that describes the pattern you are interested in (e.g. accuracy in your task) and then simulate new data from the posterior of your fitted model. You can the apply the the summary statistic to each of the data sets you simulated from the posterior and see if the model does a good job of reproducing this pattern by comparing the summary statistics from the simulations to the summary statistic caluclated over the model.\n",
    "\n",
    "What is critical is that you do not only get a single summary statistic from the simulations but a whole distribution which captures the uncertainty in our model estimate.\n",
    "\n",
    "Lets do a simple analysis using simulated data. First, import HDDM."
   ]
  },
  {
   "cell_type": "code",
   "execution_count": 3,
   "metadata": {
    "collapsed": false
   },
   "outputs": [],
   "source": [
    "import hddm\n",
    "import matplotlib.pyplot as plt\n",
    "import numpy as np\n",
    "\n",
    "%matplotlib inline\n",
    "\n",
    "import warnings\n",
    "\n",
    "warnings.filterwarnings(\"ignore\")"
   ]
  },
  {
   "cell_type": "markdown",
   "metadata": {},
   "source": [
    "Simulate data from known parameters and two conditions (easy and hard)."
   ]
  },
  {
   "cell_type": "code",
   "execution_count": 4,
   "metadata": {
    "collapsed": false
   },
   "outputs": [],
   "source": [
    "data, params = hddm.generate.gen_rand_data(\n",
    "    params={\"easy\": {\"v\": 1, \"a\": 2, \"t\": 0.3}, \"hard\": {\"v\": 1, \"a\": 2, \"t\": 0.3}}\n",
    ")"
   ]
  },
  {
   "cell_type": "markdown",
   "metadata": {},
   "source": [
    "First, lets estimate the same model that was used to generate the data."
   ]
  },
  {
   "cell_type": "code",
   "execution_count": 5,
   "metadata": {
    "collapsed": false
   },
   "outputs": [
    {
     "name": "stdout",
     "output_type": "stream",
     "text": [
      "No model attribute --> setting up standard HDDM\n",
      "Set model to ddm\n",
      " [-----------------100%-----------------] 1000 of 1000 complete in 12.5 sec"
     ]
    },
    {
     "data": {
      "text/plain": [
       "<pymc.MCMC.MCMC at 0x104066090>"
      ]
     },
     "execution_count": 5,
     "metadata": {},
     "output_type": "execute_result"
    }
   ],
   "source": [
    "m = hddm.HDDM(data, depends_on={\"v\": \"condition\"})\n",
    "m.sample(1000, burn=20)"
   ]
  },
  {
   "cell_type": "markdown",
   "metadata": {},
   "source": [
    "Next, we'll want to simulate data from the model. By default, `post_pred_gen()` will use 500 parameter values from the posterior (i.e. posterior samples) and simulate a different data set for each parameter value."
   ]
  },
  {
   "cell_type": "code",
   "execution_count": 6,
   "metadata": {
    "collapsed": false
   },
   "outputs": [
    {
     "name": "stdout",
     "output_type": "stream",
     "text": [
      "           knode_name stochastic observed   subj        node      tag  \\\n",
      "a                   a       True    False  False           a       ()   \n",
      "v(easy)             v       True    False  False     v(easy)  (easy,)   \n",
      "v(hard)             v       True    False  False     v(hard)  (hard,)   \n",
      "t                   t       True    False  False           t       ()   \n",
      "wfpt(easy)       wfpt      False     True  False  wfpt(easy)  (easy,)   \n",
      "wfpt(hard)       wfpt      False     True  False  wfpt(hard)  (hard,)   \n",
      "\n",
      "                depends hidden   rt response subj_idx condition      mean  \\\n",
      "a                    []  False  NaN      NaN      NaN       NaN   1.90643   \n",
      "v(easy)     [condition]  False  NaN      NaN      NaN      easy   1.06179   \n",
      "v(hard)     [condition]  False  NaN      NaN      NaN      hard  0.943137   \n",
      "t                    []  False  NaN      NaN      NaN       NaN  0.341715   \n",
      "wfpt(easy)  [condition]  False  NaN      NaN      NaN      easy       NaN   \n",
      "wfpt(hard)  [condition]  False  NaN      NaN      NaN      hard       NaN   \n",
      "\n",
      "                  std      2.5q       25q       50q       75q     97.5q  \\\n",
      "a            0.123325   1.70192   1.81497   1.89453   1.97966   2.18115   \n",
      "v(easy)      0.213885  0.672581  0.925245   1.05542    1.1914   1.49813   \n",
      "v(hard)       0.17852  0.605106  0.817572  0.944719   1.06105   1.27941   \n",
      "t           0.0261543  0.278789  0.325973  0.344599  0.362117  0.383125   \n",
      "wfpt(easy)        NaN       NaN       NaN       NaN       NaN       NaN   \n",
      "wfpt(hard)        NaN       NaN       NaN       NaN       NaN       NaN   \n",
      "\n",
      "                mc err  \n",
      "a           0.00666755  \n",
      "v(easy)     0.00718197  \n",
      "v(hard)     0.00616936  \n",
      "t           0.00127485  \n",
      "wfpt(easy)         NaN  \n",
      "wfpt(hard)         NaN  \n"
     ]
    }
   ],
   "source": [
    "print(m.nodes_db)"
   ]
  },
  {
   "cell_type": "code",
   "execution_count": 34,
   "metadata": {
    "collapsed": false
   },
   "outputs": [
    {
     "data": {
      "image/png": "[encoded data removed]",
      "text/plain": [
       "<Figure size 432x288 with 1 Axes>"
      ]
     },
     "metadata": {
      "needs_background": "light"
     },
     "output_type": "display_data"
    }
   ],
   "source": [
    "hddm.analyze.plot_posterior_nodes(m.nodes_db.loc[[\"v(easy)\", \"v(hard)\"], \"node\"])"
   ]
  },
  {
   "cell_type": "code",
   "execution_count": 35,
   "metadata": {},
   "outputs": [
    {
     "name": "stdout",
     "output_type": "stream",
     "text": [
      " [--------------------------150%---------------------------] 3 of 2 complete in 5.9 sec"
     ]
    }
   ],
   "source": [
    "ppc_data = hddm.utils.post_pred_gen(m)"
   ]
  },
  {
   "cell_type": "code",
   "execution_count": 36,
   "metadata": {
    "collapsed": false
   },
   "outputs": [
    {
     "data": {
      "text/html": [
       "<div>\n",
       "<style scoped>\n",
       "    .dataframe tbody tr th:only-of-type {\n",
       "        vertical-align: middle;\n",
       "    }\n",
       "\n",
       "    .dataframe tbody tr th {\n",
       "        vertical-align: top;\n",
       "    }\n",
       "\n",
       "    .dataframe thead th {\n",
       "        text-align: right;\n",
       "    }\n",
       "</style>\n",
       "<table border=\"1\" class=\"dataframe\">\n",
       "  <thead>\n",
       "    <tr style=\"text-align: right;\">\n",
       "      <th></th>\n",
       "      <th>observed</th>\n",
       "      <th>mean</th>\n",
       "      <th>std</th>\n",
       "      <th>SEM</th>\n",
       "      <th>MSE</th>\n",
       "      <th>credible</th>\n",
       "      <th>quantile</th>\n",
       "      <th>mahalanobis</th>\n",
       "    </tr>\n",
       "    <tr>\n",
       "      <th>stat</th>\n",
       "      <th></th>\n",
       "      <th></th>\n",
       "      <th></th>\n",
       "      <th></th>\n",
       "      <th></th>\n",
       "      <th></th>\n",
       "      <th></th>\n",
       "      <th></th>\n",
       "    </tr>\n",
       "  </thead>\n",
       "  <tbody>\n",
       "    <tr>\n",
       "      <th>accuracy</th>\n",
       "      <td>0.910000</td>\n",
       "      <td>0.927500</td>\n",
       "      <td>0.050637</td>\n",
       "      <td>0.000306</td>\n",
       "      <td>0.002870</td>\n",
       "      <td>True</td>\n",
       "      <td>31.500000</td>\n",
       "      <td>0.345593</td>\n",
       "    </tr>\n",
       "    <tr>\n",
       "      <th>mean_ub</th>\n",
       "      <td>0.935440</td>\n",
       "      <td>0.951484</td>\n",
       "      <td>0.098785</td>\n",
       "      <td>0.000257</td>\n",
       "      <td>0.010016</td>\n",
       "      <td>True</td>\n",
       "      <td>46.400002</td>\n",
       "      <td>0.162416</td>\n",
       "    </tr>\n",
       "    <tr>\n",
       "      <th>std_ub</th>\n",
       "      <td>0.421473</td>\n",
       "      <td>0.464852</td>\n",
       "      <td>0.111991</td>\n",
       "      <td>0.001882</td>\n",
       "      <td>0.014424</td>\n",
       "      <td>True</td>\n",
       "      <td>37.700001</td>\n",
       "      <td>0.387345</td>\n",
       "    </tr>\n",
       "    <tr>\n",
       "      <th>10q_ub</th>\n",
       "      <td>0.501000</td>\n",
       "      <td>0.521309</td>\n",
       "      <td>0.039991</td>\n",
       "      <td>0.000412</td>\n",
       "      <td>0.002012</td>\n",
       "      <td>True</td>\n",
       "      <td>32.200001</td>\n",
       "      <td>0.507850</td>\n",
       "    </tr>\n",
       "    <tr>\n",
       "      <th>30q_ub</th>\n",
       "      <td>0.686000</td>\n",
       "      <td>0.658764</td>\n",
       "      <td>0.057687</td>\n",
       "      <td>0.000742</td>\n",
       "      <td>0.004070</td>\n",
       "      <td>True</td>\n",
       "      <td>71.500000</td>\n",
       "      <td>0.472135</td>\n",
       "    </tr>\n",
       "    <tr>\n",
       "      <th>50q_ub</th>\n",
       "      <td>0.832000</td>\n",
       "      <td>0.820630</td>\n",
       "      <td>0.088531</td>\n",
       "      <td>0.000129</td>\n",
       "      <td>0.007967</td>\n",
       "      <td>True</td>\n",
       "      <td>59.900002</td>\n",
       "      <td>0.128429</td>\n",
       "    </tr>\n",
       "    <tr>\n",
       "      <th>70q_ub</th>\n",
       "      <td>1.008000</td>\n",
       "      <td>1.053636</td>\n",
       "      <td>0.134238</td>\n",
       "      <td>0.002083</td>\n",
       "      <td>0.020102</td>\n",
       "      <td>True</td>\n",
       "      <td>40.200001</td>\n",
       "      <td>0.339962</td>\n",
       "    </tr>\n",
       "    <tr>\n",
       "      <th>90q_ub</th>\n",
       "      <td>1.573000</td>\n",
       "      <td>1.542863</td>\n",
       "      <td>0.247801</td>\n",
       "      <td>0.000908</td>\n",
       "      <td>0.062314</td>\n",
       "      <td>True</td>\n",
       "      <td>59.599998</td>\n",
       "      <td>0.121618</td>\n",
       "    </tr>\n",
       "    <tr>\n",
       "      <th>mean_lb</th>\n",
       "      <td>-1.049667</td>\n",
       "      <td>-0.990737</td>\n",
       "      <td>0.350941</td>\n",
       "      <td>0.003473</td>\n",
       "      <td>0.126632</td>\n",
       "      <td>True</td>\n",
       "      <td>33.798283</td>\n",
       "      <td>0.167918</td>\n",
       "    </tr>\n",
       "    <tr>\n",
       "      <th>std_lb</th>\n",
       "      <td>0.430255</td>\n",
       "      <td>0.297619</td>\n",
       "      <td>0.251784</td>\n",
       "      <td>0.017592</td>\n",
       "      <td>0.080988</td>\n",
       "      <td>True</td>\n",
       "      <td>74.248924</td>\n",
       "      <td>0.526784</td>\n",
       "    </tr>\n",
       "    <tr>\n",
       "      <th>10q_lb</th>\n",
       "      <td>0.491400</td>\n",
       "      <td>0.726807</td>\n",
       "      <td>0.332695</td>\n",
       "      <td>0.055416</td>\n",
       "      <td>0.166103</td>\n",
       "      <td>True</td>\n",
       "      <td>9.442060</td>\n",
       "      <td>0.707575</td>\n",
       "    </tr>\n",
       "    <tr>\n",
       "      <th>30q_lb</th>\n",
       "      <td>0.799600</td>\n",
       "      <td>0.819943</td>\n",
       "      <td>0.335312</td>\n",
       "      <td>0.000414</td>\n",
       "      <td>0.112848</td>\n",
       "      <td>True</td>\n",
       "      <td>61.266094</td>\n",
       "      <td>0.060669</td>\n",
       "    </tr>\n",
       "    <tr>\n",
       "      <th>50q_lb</th>\n",
       "      <td>1.130000</td>\n",
       "      <td>0.928716</td>\n",
       "      <td>0.356847</td>\n",
       "      <td>0.040515</td>\n",
       "      <td>0.167855</td>\n",
       "      <td>True</td>\n",
       "      <td>80.686699</td>\n",
       "      <td>0.564064</td>\n",
       "    </tr>\n",
       "    <tr>\n",
       "      <th>70q_lb</th>\n",
       "      <td>1.192800</td>\n",
       "      <td>1.076653</td>\n",
       "      <td>0.398996</td>\n",
       "      <td>0.013490</td>\n",
       "      <td>0.172688</td>\n",
       "      <td>True</td>\n",
       "      <td>69.849785</td>\n",
       "      <td>0.291099</td>\n",
       "    </tr>\n",
       "    <tr>\n",
       "      <th>90q_lb</th>\n",
       "      <td>1.516800</td>\n",
       "      <td>1.302383</td>\n",
       "      <td>0.520954</td>\n",
       "      <td>0.045975</td>\n",
       "      <td>0.317368</td>\n",
       "      <td>True</td>\n",
       "      <td>71.995705</td>\n",
       "      <td>0.411585</td>\n",
       "    </tr>\n",
       "  </tbody>\n",
       "</table>\n",
       "</div>"
      ],
      "text/plain": [
       "          observed      mean       std       SEM       MSE credible  \\\n",
       "stat                                                                  \n",
       "accuracy  0.910000  0.927500  0.050637  0.000306  0.002870     True   \n",
       "mean_ub   0.935440  0.951484  0.098785  0.000257  0.010016     True   \n",
       "std_ub    0.421473  0.464852  0.111991  0.001882  0.014424     True   \n",
       "10q_ub    0.501000  0.521309  0.039991  0.000412  0.002012     True   \n",
       "30q_ub    0.686000  0.658764  0.057687  0.000742  0.004070     True   \n",
       "50q_ub    0.832000  0.820630  0.088531  0.000129  0.007967     True   \n",
       "70q_ub    1.008000  1.053636  0.134238  0.002083  0.020102     True   \n",
       "90q_ub    1.573000  1.542863  0.247801  0.000908  0.062314     True   \n",
       "mean_lb  -1.049667 -0.990737  0.350941  0.003473  0.126632     True   \n",
       "std_lb    0.430255  0.297619  0.251784  0.017592  0.080988     True   \n",
       "10q_lb    0.491400  0.726807  0.332695  0.055416  0.166103     True   \n",
       "30q_lb    0.799600  0.819943  0.335312  0.000414  0.112848     True   \n",
       "50q_lb    1.130000  0.928716  0.356847  0.040515  0.167855     True   \n",
       "70q_lb    1.192800  1.076653  0.398996  0.013490  0.172688     True   \n",
       "90q_lb    1.516800  1.302383  0.520954  0.045975  0.317368     True   \n",
       "\n",
       "           quantile  mahalanobis  \n",
       "stat                              \n",
       "accuracy  31.500000     0.345593  \n",
       "mean_ub   46.400002     0.162416  \n",
       "std_ub    37.700001     0.387345  \n",
       "10q_ub    32.200001     0.507850  \n",
       "30q_ub    71.500000     0.472135  \n",
       "50q_ub    59.900002     0.128429  \n",
       "70q_ub    40.200001     0.339962  \n",
       "90q_ub    59.599998     0.121618  \n",
       "mean_lb   33.798283     0.167918  \n",
       "std_lb    74.248924     0.526784  \n",
       "10q_lb     9.442060     0.707575  \n",
       "30q_lb    61.266094     0.060669  \n",
       "50q_lb    80.686699     0.564064  \n",
       "70q_lb    69.849785     0.291099  \n",
       "90q_lb    71.995705     0.411585  "
      ]
     },
     "execution_count": 36,
     "metadata": {},
     "output_type": "execute_result"
    }
   ],
   "source": [
    "hddm.utils.post_pred_stats(data, ppc_data)"
   ]
  },
  {
   "cell_type": "markdown",
   "metadata": {},
   "source": [
    "The returned data structure is a pandas `DataFrame` object with a hierarchical index."
   ]
  },
  {
   "cell_type": "code",
   "execution_count": 37,
   "metadata": {
    "collapsed": false
   },
   "outputs": [
    {
     "data": {
      "text/html": [
       "<div>\n",
       "<style scoped>\n",
       "    .dataframe tbody tr th:only-of-type {\n",
       "        vertical-align: middle;\n",
       "    }\n",
       "\n",
       "    .dataframe tbody tr th {\n",
       "        vertical-align: top;\n",
       "    }\n",
       "\n",
       "    .dataframe thead th {\n",
       "        text-align: right;\n",
       "    }\n",
       "</style>\n",
       "<table border=\"1\" class=\"dataframe\">\n",
       "  <thead>\n",
       "    <tr style=\"text-align: right;\">\n",
       "      <th></th>\n",
       "      <th></th>\n",
       "      <th></th>\n",
       "      <th>rt</th>\n",
       "      <th>response</th>\n",
       "    </tr>\n",
       "    <tr>\n",
       "      <th>node</th>\n",
       "      <th>sample</th>\n",
       "      <th></th>\n",
       "      <th></th>\n",
       "      <th></th>\n",
       "    </tr>\n",
       "  </thead>\n",
       "  <tbody>\n",
       "    <tr>\n",
       "      <th rowspan=\"10\" valign=\"top\">wfpt(easy)</th>\n",
       "      <th rowspan=\"10\" valign=\"top\">0</th>\n",
       "      <th>0</th>\n",
       "      <td>0.481109</td>\n",
       "      <td>1</td>\n",
       "    </tr>\n",
       "    <tr>\n",
       "      <th>1</th>\n",
       "      <td>0.755106</td>\n",
       "      <td>1</td>\n",
       "    </tr>\n",
       "    <tr>\n",
       "      <th>2</th>\n",
       "      <td>0.713106</td>\n",
       "      <td>1</td>\n",
       "    </tr>\n",
       "    <tr>\n",
       "      <th>3</th>\n",
       "      <td>1.100101</td>\n",
       "      <td>1</td>\n",
       "    </tr>\n",
       "    <tr>\n",
       "      <th>4</th>\n",
       "      <td>0.905104</td>\n",
       "      <td>1</td>\n",
       "    </tr>\n",
       "    <tr>\n",
       "      <th>5</th>\n",
       "      <td>0.716106</td>\n",
       "      <td>1</td>\n",
       "    </tr>\n",
       "    <tr>\n",
       "      <th>6</th>\n",
       "      <td>-0.873104</td>\n",
       "      <td>0</td>\n",
       "    </tr>\n",
       "    <tr>\n",
       "      <th>7</th>\n",
       "      <td>0.404109</td>\n",
       "      <td>1</td>\n",
       "    </tr>\n",
       "    <tr>\n",
       "      <th>8</th>\n",
       "      <td>1.566114</td>\n",
       "      <td>1</td>\n",
       "    </tr>\n",
       "    <tr>\n",
       "      <th>9</th>\n",
       "      <td>1.419107</td>\n",
       "      <td>1</td>\n",
       "    </tr>\n",
       "  </tbody>\n",
       "</table>\n",
       "</div>"
      ],
      "text/plain": [
       "                           rt  response\n",
       "node       sample                      \n",
       "wfpt(easy) 0      0  0.481109         1\n",
       "                  1  0.755106         1\n",
       "                  2  0.713106         1\n",
       "                  3  1.100101         1\n",
       "                  4  0.905104         1\n",
       "                  5  0.716106         1\n",
       "                  6 -0.873104         0\n",
       "                  7  0.404109         1\n",
       "                  8  1.566114         1\n",
       "                  9  1.419107         1"
      ]
     },
     "execution_count": 37,
     "metadata": {},
     "output_type": "execute_result"
    }
   ],
   "source": [
    "ppc_data.head(10)"
   ]
  },
  {
   "cell_type": "markdown",
   "metadata": {},
   "source": [
    "The first level of the `DataFrame` contains each observed node. In this case the easy condition. If we had multiple subjects we would get one for each subject.\n",
    "\n",
    "The second level contains the simulated data sets. Since we simulated 500, these will go from 0 to 499 -- each with generated from a different parameter value sampled from the posterior.\n",
    "\n",
    "The third level is the same index as used in the data and numbers each trial in your data.\n",
    "\n",
    "For more information on how to work with hierarchical indices, see the [Pandas documentation](http://pandas.pydata.org/pandas-docs/stable/indexing.html#hierarchical-indexing-multiindex).\n",
    "\n",
    "There are also some helpful options like `append_data` you can pass to `post_pred_gen()`."
   ]
  },
  {
   "cell_type": "code",
   "execution_count": 38,
   "metadata": {
    "collapsed": false
   },
   "outputs": [
    {
     "name": "stdout",
     "output_type": "stream",
     "text": [
      "Help on function post_pred_gen in module kabuki.analyze:\n",
      "\n",
      "post_pred_gen(model, groupby=None, samples=500, append_data=False, add_model_parameters=False, progress_bar=True)\n",
      "    Run posterior predictive check on a model.\n",
      "    \n",
      "    :Arguments:\n",
      "        model : kabuki.Hierarchical\n",
      "            Kabuki model over which to compute the ppc on.\n",
      "    \n",
      "    :Optional:\n",
      "        samples : int\n",
      "            How many samples to generate for each node.\n",
      "        groupby : list\n",
      "            Alternative grouping of the data. If not supplied, uses splitting\n",
      "            of the model (as provided by depends_on).\n",
      "        append_data : bool (default=False)\n",
      "            Whether to append the observed data of each node to the replicatons.\n",
      "        progress_bar : bool (default=True)\n",
      "            Display progress bar\n",
      "    \n",
      "    :Returns:\n",
      "        Hierarchical pandas.DataFrame with multiple sampled RT data sets.\n",
      "        1st level: wfpt node\n",
      "        2nd level: posterior predictive sample\n",
      "        3rd level: original data index\n",
      "    \n",
      "    :See also:\n",
      "        post_pred_stats\n",
      "\n"
     ]
    }
   ],
   "source": [
    "help(hddm.utils.post_pred_gen)"
   ]
  },
  {
   "cell_type": "markdown",
   "metadata": {},
   "source": [
    "Now we want to compute the summary statistics over each simulated data set and compare that to the summary statistic of our actual data by calling `post_pred_stats()`."
   ]
  },
  {
   "cell_type": "code",
   "execution_count": 39,
   "metadata": {
    "collapsed": false
   },
   "outputs": [],
   "source": [
    "ppc_compare = hddm.utils.post_pred_stats(data, ppc_data)"
   ]
  },
  {
   "cell_type": "code",
   "execution_count": 42,
   "metadata": {
    "collapsed": false
   },
   "outputs": [
    {
     "name": "stdout",
     "output_type": "stream",
     "text": [
      "          observed      mean       std       SEM       MSE credible  \\\n",
      "stat                                                                  \n",
      "accuracy  0.910000  0.927500  0.050637  0.000306  0.002870     True   \n",
      "mean_ub   0.935440  0.951484  0.098785  0.000257  0.010016     True   \n",
      "std_ub    0.421473  0.464852  0.111991  0.001882  0.014424     True   \n",
      "10q_ub    0.501000  0.521309  0.039991  0.000412  0.002012     True   \n",
      "30q_ub    0.686000  0.658764  0.057687  0.000742  0.004070     True   \n",
      "50q_ub    0.832000  0.820630  0.088531  0.000129  0.007967     True   \n",
      "70q_ub    1.008000  1.053636  0.134238  0.002083  0.020102     True   \n",
      "90q_ub    1.573000  1.542863  0.247801  0.000908  0.062314     True   \n",
      "mean_lb  -1.049667 -0.990737  0.350941  0.003473  0.126632     True   \n",
      "std_lb    0.430255  0.297619  0.251784  0.017592  0.080988     True   \n",
      "10q_lb    0.491400  0.726807  0.332695  0.055416  0.166103     True   \n",
      "30q_lb    0.799600  0.819943  0.335312  0.000414  0.112848     True   \n",
      "50q_lb    1.130000  0.928716  0.356847  0.040515  0.167855     True   \n",
      "70q_lb    1.192800  1.076653  0.398996  0.013490  0.172688     True   \n",
      "90q_lb    1.516800  1.302383  0.520954  0.045975  0.317368     True   \n",
      "\n",
      "           quantile  mahalanobis  \n",
      "stat                              \n",
      "accuracy  31.500000     0.345593  \n",
      "mean_ub   46.400002     0.162416  \n",
      "std_ub    37.700001     0.387345  \n",
      "10q_ub    32.200001     0.507850  \n",
      "30q_ub    71.500000     0.472135  \n",
      "50q_ub    59.900002     0.128429  \n",
      "70q_ub    40.200001     0.339962  \n",
      "90q_ub    59.599998     0.121618  \n",
      "mean_lb   33.798283     0.167918  \n",
      "std_lb    74.248924     0.526784  \n",
      "10q_lb     9.442060     0.707575  \n",
      "30q_lb    61.266094     0.060669  \n",
      "50q_lb    80.686699     0.564064  \n",
      "70q_lb    69.849785     0.291099  \n",
      "90q_lb    71.995705     0.411585  \n"
     ]
    }
   ],
   "source": [
    "print(ppc_compare)"
   ]
  },
  {
   "cell_type": "markdown",
   "metadata": {},
   "source": [
    "As you can see, we did not have to define the summary statistics as by default, `HDDM` already calculates a bunch of useful statistics for RT analysis such as the accuracy, mean RT of the upper and lower boundary (ub and lb respectively), standard deviation and quantiles. These are listed in the rows of the DataFrame.\n",
    "\n",
    "For each distribution of summary statistics there are multiple ways to compare them to the summary statistic obtained on the observerd data. These are listed in the columns. `observed` is just the value of the summary statistic of your data. `mean` is the mean of the summary statistics of the simulated data sets (they should be a good match if the model reproduces them). `std` is a measure of how much variation is produced in the summary statistic.\n",
    "\n",
    "The rest of the columns are measures of how far the summary statistic of the data is away from the summary statistics of the simulated data. `SEM` = standard error from the mean, `MSE` = mean-squared error, `credible` = in the 95% credible interval."
   ]
  },
  {
   "cell_type": "markdown",
   "metadata": {},
   "source": [
    "Finally, we can also tell `post_pred_stats()` to return the summary statistics themselves by setting `call_compare=False`:"
   ]
  },
  {
   "cell_type": "code",
   "execution_count": 43,
   "metadata": {
    "collapsed": false
   },
   "outputs": [],
   "source": [
    "ppc_stats = hddm.utils.post_pred_stats(data, ppc_data, call_compare=False)"
   ]
  },
  {
   "cell_type": "code",
   "execution_count": 44,
   "metadata": {
    "collapsed": false
   },
   "outputs": [
    {
     "name": "stdout",
     "output_type": "stream",
     "text": [
      "                   accuracy   mean_ub    std_ub    10q_ub    30q_ub    50q_ub  \\\n",
      "node       sample                                                               \n",
      "wfpt(easy) 0           0.86  1.062849  0.724248  0.484509  0.667707  0.905104   \n",
      "           1           0.98  0.977835  0.474633  0.498661  0.680059  0.882057   \n",
      "           2           0.82  0.996223  0.515579  0.555150  0.671149  0.817147   \n",
      "           3           0.88  0.875679  0.305067  0.510363  0.733061  0.835860   \n",
      "           4           0.92  0.815038  0.503699  0.510257  0.593757  0.626257   \n",
      "\n",
      "                     70q_ub    90q_ub   mean_lb    std_lb    10q_lb    30q_lb  \\\n",
      "node       sample                                                               \n",
      "wfpt(easy) 0       1.078501  1.749323 -1.398971  0.610027  0.740706  1.084301   \n",
      "           1       1.133453  1.642467 -0.624060  0.000000  0.624060  0.624060   \n",
      "           2       1.004145  1.785162 -1.002371  0.407241  0.611750  0.756748   \n",
      "           3       0.951658  1.376258 -0.928192  0.198288  0.706861  0.757861   \n",
      "           4       0.779755  1.143250 -1.067014  0.635796  0.646857  0.666057   \n",
      "\n",
      "                     50q_lb    70q_lb    90q_lb  \n",
      "node       sample                                \n",
      "wfpt(easy) 0       1.268101  1.595516  2.214336  \n",
      "           1       0.624060  0.624060  0.624060  \n",
      "           2       0.802147  1.145143  1.375747  \n",
      "           3       0.916359  1.091857  1.161356  \n",
      "           4       0.733756  0.934758  1.753776  \n"
     ]
    }
   ],
   "source": [
    "print(ppc_stats.head())"
   ]
  },
  {
   "cell_type": "markdown",
   "metadata": {},
   "source": [
    "This `DataFrame` has a row for each simulated data set. The columns are the different summary statistics."
   ]
  },
  {
   "cell_type": "markdown",
   "metadata": {},
   "source": [
    "### Using PPC for model comparison with the `groupby` argument\n",
    "\n",
    "One useful application of PPC is to perform model\n",
    "comparison. Specifically, you might estimate two models, one for which\n",
    "a certain parameter is split for a condition (say drift-rate ``v`` for\n",
    "hard and easy conditions to stay with our example above) and one in\n",
    "which those conditions are pooled and you only estimate one\n",
    "drift-rate.\n",
    "\n",
    "You then want to test which model explains the data better to assess\n",
    "whether the two conditions are really different. To do this, we can\n",
    "generate data from both models and see if the pooled model\n",
    "systematically misses aspects of the RT data of the two\n",
    "conditions. This is what the ``groupby`` keyword argument is\n",
    "for. Without it, if you ran ``post_pred_gen()`` on the pooled model\n",
    "you would get simulated RT data which was not split by\n",
    "conditions. Note that while the RT data will be split by condition,\n",
    "the exact same parameters are used to simulate data of the two\n",
    "conditions as the pooled model does not separate them. It simply\n",
    "allows us to match the two conditions present in the data to the\n",
    "jointly simulated data more easily."
   ]
  },
  {
   "cell_type": "code",
   "execution_count": null,
   "metadata": {},
   "outputs": [],
   "source": [
    "m_pooled = hddm.HDDM(data)  # v does not depend on conditions\n",
    "m_pooled.sample(1000, burn=20)\n",
    "ppc_data_pooled = hddm.utils.post_pred_gen(m_pooled, groupby=[\"condition\"])"
   ]
  },
  {
   "cell_type": "markdown",
   "metadata": {},
   "source": [
    "You could then compare ``ppc_data_pooled`` to ``ppc_data`` above (by\n",
    "passing them to ``post_pred_stats``) and find that the model with\n",
    "separate drift-rates accounts for accuracy (``mean_ub``) in both\n",
    "conditions, while the pooled model can't account for accuracy in\n",
    "either condition (e.g. lower ``MSE``)."
   ]
  },
  {
   "cell_type": "markdown",
   "metadata": {},
   "source": [
    "### Defining your own summary statistics"
   ]
  },
  {
   "cell_type": "markdown",
   "metadata": {},
   "source": [
    "You can also define your own summary statistics and pass them to `post_pred_stats()`:"
   ]
  },
  {
   "cell_type": "code",
   "execution_count": 45,
   "metadata": {
    "collapsed": false
   },
   "outputs": [],
   "source": [
    "ppc_stats = hddm.utils.post_pred_stats(\n",
    "    data, ppc_data, stats=lambda x: np.mean(x), call_compare=False\n",
    ")"
   ]
  },
  {
   "cell_type": "code",
   "execution_count": 46,
   "metadata": {
    "collapsed": false
   },
   "outputs": [
    {
     "data": {
      "text/html": [
       "<div>\n",
       "<style scoped>\n",
       "    .dataframe tbody tr th:only-of-type {\n",
       "        vertical-align: middle;\n",
       "    }\n",
       "\n",
       "    .dataframe tbody tr th {\n",
       "        vertical-align: top;\n",
       "    }\n",
       "\n",
       "    .dataframe thead th {\n",
       "        text-align: right;\n",
       "    }\n",
       "</style>\n",
       "<table border=\"1\" class=\"dataframe\">\n",
       "  <thead>\n",
       "    <tr style=\"text-align: right;\">\n",
       "      <th></th>\n",
       "      <th></th>\n",
       "      <th>stat</th>\n",
       "    </tr>\n",
       "    <tr>\n",
       "      <th>node</th>\n",
       "      <th>sample</th>\n",
       "      <th></th>\n",
       "    </tr>\n",
       "  </thead>\n",
       "  <tbody>\n",
       "    <tr>\n",
       "      <th rowspan=\"5\" valign=\"top\">wfpt(easy)</th>\n",
       "      <th>0</th>\n",
       "      <td>0.718194</td>\n",
       "    </tr>\n",
       "    <tr>\n",
       "      <th>1</th>\n",
       "      <td>0.945797</td>\n",
       "    </tr>\n",
       "    <tr>\n",
       "      <th>2</th>\n",
       "      <td>0.636476</td>\n",
       "    </tr>\n",
       "    <tr>\n",
       "      <th>3</th>\n",
       "      <td>0.659214</td>\n",
       "    </tr>\n",
       "    <tr>\n",
       "      <th>4</th>\n",
       "      <td>0.664474</td>\n",
       "    </tr>\n",
       "  </tbody>\n",
       "</table>\n",
       "</div>"
      ],
      "text/plain": [
       "                       stat\n",
       "node       sample          \n",
       "wfpt(easy) 0       0.718194\n",
       "           1       0.945797\n",
       "           2       0.636476\n",
       "           3       0.659214\n",
       "           4       0.664474"
      ]
     },
     "execution_count": 46,
     "metadata": {},
     "output_type": "execute_result"
    }
   ],
   "source": [
    "ppc_stats.head()"
   ]
  },
  {
   "cell_type": "markdown",
   "metadata": {},
   "source": [
    "Note that `stats` can also be a dictionary mapping the name of the summary statistic to its function."
   ]
  },
  {
   "cell_type": "markdown",
   "metadata": {},
   "source": [
    "### Summary statistics relating to outside variables"
   ]
  },
  {
   "cell_type": "markdown",
   "metadata": {},
   "source": [
    "Another useful way to apply posterior predictive checks is if you have trial-by-trial measure (e.g. EEG brain measure). In that case the `append_data` keyword argument is useful.\n",
    "\n",
    "Lets add a dummy column to our data. This is going to be uncorrelated to anything but you'll get the idea."
   ]
  },
  {
   "cell_type": "code",
   "execution_count": 47,
   "metadata": {
    "collapsed": false
   },
   "outputs": [],
   "source": [
    "from numpy.random import randn\n",
    "\n",
    "data[\"trlbytrl\"] = randn(len(data))"
   ]
  },
  {
   "cell_type": "code",
   "execution_count": 48,
   "metadata": {
    "collapsed": false
   },
   "outputs": [
    {
     "name": "stdout",
     "output_type": "stream",
     "text": [
      "No model attribute --> setting up standard HDDM\n",
      "Set model to ddm\n",
      " [-----------------100%-----------------] 1 of 1 complete in 0.0 sec1.4 sec"
     ]
    }
   ],
   "source": [
    "m_reg = hddm.HDDMRegressor(data, \"v ~ trlbytrl\")\n",
    "m_reg.sample(1000, burn=20)\n",
    "\n",
    "ppc_data = hddm.utils.post_pred_gen(m_reg, append_data=True)"
   ]
  },
  {
   "cell_type": "code",
   "execution_count": 49,
   "metadata": {
    "collapsed": false
   },
   "outputs": [],
   "source": [
    "from scipy.stats import linregress\n",
    "\n",
    "ppc_regression = []\n",
    "for (node, sample), sim_data in ppc_data.groupby(level=(0, 1)):\n",
    "    ppc_regression.append(\n",
    "        linregress(sim_data.trlbytrl, sim_data.rt_sampled)[0]\n",
    "    )  # slope\n",
    "\n",
    "orig_regression = linregress(data.trlbytrl, data.rt)[0]"
   ]
  },
  {
   "cell_type": "code",
   "execution_count": 54,
   "metadata": {},
   "outputs": [
    {
     "name": "stdout",
     "output_type": "stream",
     "text": [
      "                rt_sampled  response_sampled  index     rt  response  \\\n",
      "node sample                                                            \n",
      "wfpt 0      0     1.121020                 1      0  0.934       1.0   \n",
      "            1     0.487028                 1      1  0.802       1.0   \n",
      "            2     1.383025                 1      2  1.394       1.0   \n",
      "            3     0.762025                 1      3  1.213       1.0   \n",
      "            4     1.609036                 1      4 -1.434       0.0   \n",
      "...                    ...               ...    ...    ...       ...   \n",
      "            95    0.717025                 1     95  1.015       1.0   \n",
      "            96    0.711025                 1     96  0.827       1.0   \n",
      "            97    0.805024                 1     97  0.468       1.0   \n",
      "            98    1.552033                 1     98 -0.612       0.0   \n",
      "            99    0.672026                 1     99  1.138       1.0   \n",
      "\n",
      "                subj_idx condition  trlbytrl  \n",
      "node sample                                   \n",
      "wfpt 0      0          0      easy  0.588377  \n",
      "            1          0      easy -0.247001  \n",
      "            2          0      easy -0.347119  \n",
      "            3          0      easy  2.098002  \n",
      "            4          0      easy -0.850838  \n",
      "...                  ...       ...       ...  \n",
      "            95         0      hard  2.381048  \n",
      "            96         0      hard  0.181995  \n",
      "            97         0      hard  0.374229  \n",
      "            98         0      hard  0.278482  \n",
      "            99         0      hard  1.971242  \n",
      "\n",
      "[100 rows x 8 columns]\n",
      "                rt_sampled  response_sampled  index     rt  response  \\\n",
      "node sample                                                            \n",
      "wfpt 1      0     0.859229                 1      0  0.934       1.0   \n",
      "            1     0.430233                 1      1  0.802       1.0   \n",
      "            2     0.728231                 1      2  1.394       1.0   \n",
      "            3     0.570233                 1      3  1.213       1.0   \n",
      "            4     0.584233                 1      4 -1.434       0.0   \n",
      "...                    ...               ...    ...    ...       ...   \n",
      "            95    2.195267                 1     95  1.015       1.0   \n",
      "            96   -0.518234                 0     96  0.827       1.0   \n",
      "            97    0.573233                 1     97  0.468       1.0   \n",
      "            98    0.705231                 1     98 -0.612       0.0   \n",
      "            99    0.475234                 1     99  1.138       1.0   \n",
      "\n",
      "                subj_idx condition  trlbytrl  \n",
      "node sample                                   \n",
      "wfpt 1      0          0      easy  0.588377  \n",
      "            1          0      easy -0.247001  \n",
      "            2          0      easy -0.347119  \n",
      "            3          0      easy  2.098002  \n",
      "            4          0      easy -0.850838  \n",
      "...                  ...       ...       ...  \n",
      "            95         0      hard  2.381048  \n",
      "            96         0      hard  0.181995  \n",
      "            97         0      hard  0.374229  \n",
      "            98         0      hard  0.278482  \n",
      "            99         0      hard  1.971242  \n",
      "\n",
      "[100 rows x 8 columns]\n",
      "                rt_sampled  response_sampled  index     rt  response  \\\n",
      "node sample                                                            \n",
      "wfpt 2      0     0.646321                 1      0  0.934       1.0   \n",
      "            1     0.688321                 1      1  0.802       1.0   \n",
      "            2     0.417322                 1      2  1.394       1.0   \n",
      "            3    -0.748320                 0      3  1.213       1.0   \n",
      "            4     0.575322                 1      4 -1.434       0.0   \n",
      "...                    ...               ...    ...    ...       ...   \n",
      "            95    0.631321                 1     95  1.015       1.0   \n",
      "            96    0.563322                 1     96  0.827       1.0   \n",
      "            97    0.737320                 1     97  0.468       1.0   \n",
      "            98    0.640321                 1     98 -0.612       0.0   \n",
      "            99    0.515322                 1     99  1.138       1.0   \n",
      "\n",
      "                subj_idx condition  trlbytrl  \n",
      "node sample                                   \n",
      "wfpt 2      0          0      easy  0.588377  \n",
      "            1          0      easy -0.247001  \n",
      "            2          0      easy -0.347119  \n",
      "            3          0      easy  2.098002  \n",
      "            4          0      easy -0.850838  \n",
      "...                  ...       ...       ...  \n",
      "            95         0      hard  2.381048  \n",
      "            96         0      hard  0.181995  \n",
      "            97         0      hard  0.374229  \n",
      "            98         0      hard  0.278482  \n",
      "            99         0      hard  1.971242  \n",
      "\n",
      "[100 rows x 8 columns]\n"
     ]
    }
   ],
   "source": [
    "cnt = 0\n",
    "for (node, sample), sim_data in ppc_data.groupby(level=(0, 1)):\n",
    "    print(sim_data)\n",
    "    cnt += 1\n",
    "    if cnt > 2:\n",
    "        break"
   ]
  },
  {
   "cell_type": "code",
   "execution_count": 50,
   "metadata": {
    "collapsed": false
   },
   "outputs": [
    {
     "data": {
      "text/plain": [
       "Text(0.5, 0, 'slope')"
      ]
     },
     "execution_count": 50,
     "metadata": {},
     "output_type": "execute_result"
    },
    {
     "data": {
      "image/png": "[encoded data removed]",
      "text/plain": [
       "<Figure size 432x288 with 1 Axes>"
      ]
     },
     "metadata": {
      "needs_background": "light"
     },
     "output_type": "display_data"
    }
   ],
   "source": [
    "plt.hist(ppc_regression)\n",
    "plt.axvline(orig_regression, c=\"r\", lw=3)\n",
    "plt.xlabel(\"slope\")"
   ]
  },
  {
   "cell_type": "markdown",
   "metadata": {},
   "source": [
    "As you can see, the simulated data sets have on average no correlation to our trial-by-trial measure (just as in the data) but we also get a nice sense of the uncertainty in our estimation."
   ]
  }
 ],
 "metadata": {
  "interpreter": {
   "hash": "ff3096d2709bbb36a4584c44f6e6ffdb5e175071e94d34047f50b078bfdc1c6d"
  },
  "kernelspec": {
   "display_name": "hddmnn_tutorial",
   "language": "python",
   "name": "hddmnn_tutorial"
  },
  "language_info": {
   "codemirror_mode": {
    "name": "ipython",
    "version": 3
   },
   "file_extension": ".py",
   "mimetype": "text/x-python",
   "name": "python",
   "nbconvert_exporter": "python",
   "pygments_lexer": "ipython3",
   "version": "3.7.7"
  }
 },
 "nbformat": 4,
 "nbformat_minor": 4
}
