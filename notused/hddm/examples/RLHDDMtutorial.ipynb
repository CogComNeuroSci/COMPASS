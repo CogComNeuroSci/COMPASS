{
 "cells": [
  {
   "cell_type": "markdown",
   "metadata": {},
   "source": [
    "# Tutorial for analyzing instrumental learning data with the HDDMrl module\n",
    "This is a tutorial for using the HDDMrl module to simultaneously estimate reinforcement learning parameters and decision parameters within a fully hierarchical bayesian estimation framework, including steps for sampling, assessing convergence, model fit, parameter recovery, and posterior predictive checks (model validation). The module uses the reinforcement learning drift diffusion model (RLDDM), a reinforcement learning model that replaces the standard “softmax” choice function with a drift diffusion process. The softmax and drift diffusion process is equivalent for capturing choice proportions, but the DDM also takes RT distributions into account; options are provided to also only fit RL parameters without RT. The RLDDM estimates trial-by-trial drift rate as a scaled difference in expected rewards (expected reward for upper bound alternative minus expected reward for lower bound alternative). Expected rewards are updated with a delta learning rule using either a single learning rate or with separate learning rates for positive and negative prediction errors. The model also includes the standard DDM-parameters. The RLDDM is described in detail in [Pedersen, Frank & Biele (2017).](http://ski.clps.brown.edu/papers/PedersenEtAl_RLDDM.pdf) (Note this approach differs from Frank et al (2015) who used HDDM to fit instrumental learning but did not allow for simultaneous estimation of learning parameters). \n",
    "\n",
    "## OUTLINE \n",
    "\n",
    "[1. Background](#1.-Background) <br>\n",
    "[2. Installing the module](#2.-Installing-the-module) <br>\n",
    "[3. How the RLDDM works](#3.-How-the-RLDDM-works) <br>\n",
    "[4. Structuring data](#4.-Structuring-data) <br>\n",
    "[5. Running basic model](#5.-Running-basic-model) <br>\n",
    "[6. Checking results](#6.-Checking-results) <br>\n",
    "[7. Posterior predictive checks](#7.-Posterior-predictive-checks)<br>\n",
    "[8. Parameter recovery](#8.-Parameter-recovery)<br>\n",
    "[9. Separate learning rates for positive and negative prediction errors](#9.-Separate-learning-rates-for-positive-and-negative-prediction-errors)<br>\n",
    "[10. depends_on vs. split_by](#10.-depends_on-vs.-split_by)<br>\n",
    "[11. Probabilistic binary outcomes vs. normally distributed outcomes](#11.-Probabilistic-binary-outcomes-vs.-normally-distributed-outcomes)<br>\n",
    "[12. HDDMrlRegressor](#12.-HDDMrlRegressor)<br>\n",
    "[13. Regular RL without RT](#13.-Regular-RL-without-RT)\n"
   ]
  },
  {
   "cell_type": "markdown",
   "metadata": {},
   "source": [
    "## 1. Background\n",
    "Traditional RL models typically assume static decision processes (e.g. softmax), and the DDM typically assumes static decision variables (stimuli are modeled with the same drift rate across trials). The RLDDM combines dynamic decision variables from RL and dynamic choice process from DDM by assuming trial-by-trial drift rate that depends on the difference in expected rewards, which are updated on each trial by a rate of the prediction error dependent on the learning rate. The potential benefit of the RLDDM is thus to gain a better insight into decision processes in instrumental learning by also accounting for speed of decision making."
   ]
  },
  {
   "cell_type": "markdown",
   "metadata": {},
   "source": [
    "## 2. Installing the module\n",
    "The new version of HDDM (version 0.7.1) that includes the RLDDM is currently not uploaded to conda. So to install you would either have to use pip:<br>\n",
    "'pip install hddm' <br>\n",
    "OR <br>\n",
    "docker: 'pull madslupe/hddm', which runs hddm in jupyter notebook <br>"
   ]
  },
  {
   "cell_type": "markdown",
   "metadata": {},
   "source": [
    "## 3. How the RLDDM works\n",
    "The main idea of the RLDDM is that reward-based choices can be captured by an accumulation-to-bound process where drift rate is proportional to the difference in expected reward between options, and where expected rewards subsequently are updated in a trial-by-trial basis via reinforcement learning. <br><br>\n",
    "__drift rate on each trial depends on difference in expected rewards for the two alternatives (q_up and q_low):__ <br>\n",
    "drift rate = (q_up - q_low) * scaling <br><br>\n",
    "_where the scaling parameter describes the weight to put on the difference in q-values._<br><br>\n",
    "__expeceted reward (q) for chosen option is updated according to delta learning rule :__ <br>\n",
    "q_chosen = q_chosen + alpha * (feedback-q_chosen) <br><br>\n",
    "_where alpha weights the rate of learning on each trial._<br><br>\n",
    "So in principle all you need is the Wiener first passage time likelihood-function. The reason why HDDM is useful (and hence also HDDMrl) is that it automates the process of setting up and running your model, which tends to be very time consuming. So after structuring the data it is simple to run a model with HDDMrl. In particular it separates subjects and conditions (using the split_by-column, see next section) so that the updating process works correctly, which can be especially difficult to do for RL models. "
   ]
  },
  {
   "cell_type": "markdown",
   "metadata": {},
   "source": [
    "## 4. Structuring data\n",
    "The HDDMrl module was created to make it easier to model instrumental learning data with the RLDDM. If you are familiar with using HDDM it shouldn't be a big step to start using HDDMrl. Please refresh your memory by starting with the [tutorial for HDDM](http://ski.clps.brown.edu/hddm_docs/index.html) first (especially critical if you have not used HDDM at all). Running HDDMrl does require a few extra steps compared to HDDM, and because the model includes increased potential for parameter colinearity  (typically learning rate and the scaling parameter on drift rate) it is even more important to assess model fit, which will be covered below. Here are the most important steps for structuring your dataframe:\n",
    "1. Sort trials in ascending order within subject and condition, to ensure proper updating of expected rewards.\n",
    "2. Include a column called __'split_by'__ which identifies the different task conditions (__as integers__), to ensure reward updating will work properly for each condition without mixing values learned from one trial type to another. \n",
    "3. Code the response column with [stimulus-coding] (http://ski.clps.brown.edu/hddm_docs/howto.html#code-subject-responses). Although stimulus-coding and accuracy-coding often are the same in instrumental learning it is important that the upper and lower boundaries are represented by the same alternative within a condition, because expected rewards are linked to the thresholds/boundaries.\n",
    "4. __feedback__-column. This should be the reward received for the chosen option on each trial.\n",
    "5. __q_init__. Adjusting initial q-values is something that can improve model fit quite a bit. To allow the user to set their own initial values we therefore require that the dataframe includes a column called q_init. The function will set all initial q-values according to the first value in q_init. So this is not the most elegant method of allowing users to set inital value for expected rewards, but it works for now.\n",
    "\n",
    "#### Required columns in data:\n",
    "* __rt__: in seconds, same as in HDDM\n",
    "* __response__: 0 or 1. defines chosen stimulus, not accuracy.\n",
    "* __split_by__: needs to be an integer. Split_by defines conditions (trial-types) that should have the same variables (e.g. Q values) within subject: the trials need to be split by condition to ensure proper updating of expected rewards that do not bleed over into other trial-types. (e.g. if you have stimulus A and get reward you want that updated value to impact choice only for the next stimulus A trial but not necessarily the immediate trial afterwards, which may be of a different condition) \n",
    "* __subj_idx__: same as in HDDM, but even more important here because it is used to split trials\n",
    "* __feedback__: feedback on the current trial. can be any value.\n",
    "* __q_init__: used to initialize expected rewards. can be any value, but an unbiased initial value should be somewhere between the minimum and and maximum reward values (e.g. 0.5 for tasks with rewards of 0 and 1)."
   ]
  },
  {
   "cell_type": "markdown",
   "metadata": {},
   "source": [
    "## 5. Running basic model\n",
    "To illustrate how to run the model we will use example data from the learning phase of the probabilistic selection task (PST). During the learning phase of the PST subjects choose between two  stimuli presented as Hiragana-letters (here represented as letters from the latin alphabet). There are three conditions with different probabilities of receiving reward (feedback=1) and non-reward (feedback=0). In the AB condition A is rewarded with 80% probability, B with 20%. In the CD condition C is rewarded with 70% probability and D with 30%, while in the EF condition E is rewarded with a 60% probability and F with 40%. The dataset is included in the data-folder in your installation of HDDM."
   ]
  },
  {
   "cell_type": "code",
   "execution_count": 1,
   "metadata": {},
   "outputs": [
    {
     "name": "stderr",
     "output_type": "stream",
     "text": [
      "/home/krishn/anaconda3/envs/hddm/lib/python3.6/site-packages/tensorflow/python/framework/dtypes.py:526: FutureWarning: Passing (type, 1) or '1type' as a synonym of type is deprecated; in a future version of numpy, it will be understood as (type, (1,)) / '(1,)type'.\n",
      "  _np_qint8 = np.dtype([(\"qint8\", np.int8, 1)])\n",
      "/home/krishn/anaconda3/envs/hddm/lib/python3.6/site-packages/tensorflow/python/framework/dtypes.py:527: FutureWarning: Passing (type, 1) or '1type' as a synonym of type is deprecated; in a future version of numpy, it will be understood as (type, (1,)) / '(1,)type'.\n",
      "  _np_quint8 = np.dtype([(\"quint8\", np.uint8, 1)])\n",
      "/home/krishn/anaconda3/envs/hddm/lib/python3.6/site-packages/tensorflow/python/framework/dtypes.py:528: FutureWarning: Passing (type, 1) or '1type' as a synonym of type is deprecated; in a future version of numpy, it will be understood as (type, (1,)) / '(1,)type'.\n",
      "  _np_qint16 = np.dtype([(\"qint16\", np.int16, 1)])\n",
      "/home/krishn/anaconda3/envs/hddm/lib/python3.6/site-packages/tensorflow/python/framework/dtypes.py:529: FutureWarning: Passing (type, 1) or '1type' as a synonym of type is deprecated; in a future version of numpy, it will be understood as (type, (1,)) / '(1,)type'.\n",
      "  _np_quint16 = np.dtype([(\"quint16\", np.uint16, 1)])\n",
      "/home/krishn/anaconda3/envs/hddm/lib/python3.6/site-packages/tensorflow/python/framework/dtypes.py:530: FutureWarning: Passing (type, 1) or '1type' as a synonym of type is deprecated; in a future version of numpy, it will be understood as (type, (1,)) / '(1,)type'.\n",
      "  _np_qint32 = np.dtype([(\"qint32\", np.int32, 1)])\n",
      "/home/krishn/anaconda3/envs/hddm/lib/python3.6/site-packages/tensorflow/python/framework/dtypes.py:535: FutureWarning: Passing (type, 1) or '1type' as a synonym of type is deprecated; in a future version of numpy, it will be understood as (type, (1,)) / '(1,)type'.\n",
      "  np_resource = np.dtype([(\"resource\", np.ubyte, 1)])\n"
     ]
    },
    {
     "name": "stdout",
     "output_type": "stream",
     "text": [
      "tanh\n",
      "tanh\n",
      "tanh\n",
      "linear\n"
     ]
    },
    {
     "name": "stderr",
     "output_type": "stream",
     "text": [
      "/home/krishn/anaconda3/envs/hddm/lib/python3.6/site-packages/IPython/parallel.py:13: ShimWarning: The `IPython.parallel` package has been deprecated since IPython 4.0. You should import from ipyparallel instead.\n",
      "  \"You should import from ipyparallel instead.\", ShimWarning)\n"
     ]
    }
   ],
   "source": [
    "# import\n",
    "import pandas as pd\n",
    "import numpy as np\n",
    "import hddm\n",
    "from scipy import stats\n",
    "import seaborn as sns\n",
    "import matplotlib.pyplot as plt\n",
    "import pymc\n",
    "import kabuki\n",
    "\n",
    "sns.set(style=\"white\")\n",
    "%matplotlib inline\n",
    "from tqdm import tqdm\n",
    "import warnings\n",
    "\n",
    "warnings.filterwarnings(\"ignore\", category=np.VisibleDeprecationWarning)"
   ]
  },
  {
   "cell_type": "code",
   "execution_count": 2,
   "metadata": {},
   "outputs": [
    {
     "data": {
      "text/html": [
       "<div>\n",
       "<style scoped>\n",
       "    .dataframe tbody tr th:only-of-type {\n",
       "        vertical-align: middle;\n",
       "    }\n",
       "\n",
       "    .dataframe tbody tr th {\n",
       "        vertical-align: top;\n",
       "    }\n",
       "\n",
       "    .dataframe thead th {\n",
       "        text-align: right;\n",
       "    }\n",
       "</style>\n",
       "<table border=\"1\" class=\"dataframe\">\n",
       "  <thead>\n",
       "    <tr style=\"text-align: right;\">\n",
       "      <th></th>\n",
       "      <th>subj_idx</th>\n",
       "      <th>response</th>\n",
       "      <th>cond</th>\n",
       "      <th>rt</th>\n",
       "      <th>trial</th>\n",
       "      <th>split_by</th>\n",
       "      <th>feedback</th>\n",
       "      <th>q_init</th>\n",
       "    </tr>\n",
       "  </thead>\n",
       "  <tbody>\n",
       "    <tr>\n",
       "      <th>0</th>\n",
       "      <td>42</td>\n",
       "      <td>0.0</td>\n",
       "      <td>CD</td>\n",
       "      <td>1.255</td>\n",
       "      <td>1.0</td>\n",
       "      <td>1</td>\n",
       "      <td>0.0</td>\n",
       "      <td>0.5</td>\n",
       "    </tr>\n",
       "    <tr>\n",
       "      <th>1</th>\n",
       "      <td>42</td>\n",
       "      <td>1.0</td>\n",
       "      <td>EF</td>\n",
       "      <td>0.778</td>\n",
       "      <td>1.0</td>\n",
       "      <td>2</td>\n",
       "      <td>0.0</td>\n",
       "      <td>0.5</td>\n",
       "    </tr>\n",
       "    <tr>\n",
       "      <th>2</th>\n",
       "      <td>42</td>\n",
       "      <td>1.0</td>\n",
       "      <td>AB</td>\n",
       "      <td>0.647</td>\n",
       "      <td>1.0</td>\n",
       "      <td>0</td>\n",
       "      <td>1.0</td>\n",
       "      <td>0.5</td>\n",
       "    </tr>\n",
       "    <tr>\n",
       "      <th>3</th>\n",
       "      <td>42</td>\n",
       "      <td>1.0</td>\n",
       "      <td>AB</td>\n",
       "      <td>0.750</td>\n",
       "      <td>2.0</td>\n",
       "      <td>0</td>\n",
       "      <td>1.0</td>\n",
       "      <td>0.5</td>\n",
       "    </tr>\n",
       "    <tr>\n",
       "      <th>4</th>\n",
       "      <td>42</td>\n",
       "      <td>0.0</td>\n",
       "      <td>EF</td>\n",
       "      <td>0.772</td>\n",
       "      <td>2.0</td>\n",
       "      <td>2</td>\n",
       "      <td>1.0</td>\n",
       "      <td>0.5</td>\n",
       "    </tr>\n",
       "  </tbody>\n",
       "</table>\n",
       "</div>"
      ],
      "text/plain": [
       "   subj_idx  response cond     rt  trial  split_by  feedback  q_init\n",
       "0        42       0.0   CD  1.255    1.0         1       0.0     0.5\n",
       "1        42       1.0   EF  0.778    1.0         2       0.0     0.5\n",
       "2        42       1.0   AB  0.647    1.0         0       1.0     0.5\n",
       "3        42       1.0   AB  0.750    2.0         0       1.0     0.5\n",
       "4        42       0.0   EF  0.772    2.0         2       1.0     0.5"
      ]
     },
     "execution_count": 2,
     "metadata": {},
     "output_type": "execute_result"
    }
   ],
   "source": [
    "# load data. you will find this dataset in your hddm-folder under hddm/examples/rlddm_data.csv\n",
    "data = hddm.load_csv(\"rlddm_data.csv\")\n",
    "# check structure\n",
    "data.head()"
   ]
  },
  {
   "cell_type": "markdown",
   "metadata": {},
   "source": [
    "The columns in the datafile represent: __subj_idx__ (subject id), __response__ (1=best option), __cond__ (identifies condition, but not used in model), __rt__ (in seconds), 0=worst option), __trial__ (the trial-iteration for a subject within each condition), __split_by__ (identifying condition, used for running the model), __feedback__ (whether the response given was rewarded or not), __q_init__ (the initial q-value used for the model, explained above)."
   ]
  },
  {
   "cell_type": "code",
   "execution_count": 3,
   "metadata": {},
   "outputs": [
    {
     "name": "stdout",
     "output_type": "stream",
     "text": [
      "{}\n",
      "()\n",
      "No model attribute --> setting up standard HDDM\n",
      "Includes supplied:  ()\n",
      "printing self.nn\n",
      "False\n",
      "Set model to ddm\n",
      " [-----------------100%-----------------] 1500 of 1500 complete in 143.7 sec                    mean         std       2.5q       25q       50q        75q      97.5q       mc err\n",
      "a                 1.7433   0.0813138    1.58494   1.68967   1.74494     1.7954     1.9187   0.00292143\n",
      "a_std           0.406522   0.0610479   0.312902    0.3623  0.401829   0.441929   0.558704   0.00266828\n",
      "a_subj.3         2.00633     0.10129    1.83542   1.93472   1.99867    2.06634    2.23372   0.00443095\n",
      "a_subj.4         1.89855   0.0539594    1.79832   1.86133   1.89825    1.93209    2.01204     0.002394\n",
      "a_subj.5         1.48664   0.0741329    1.34377    1.4389   1.48745    1.53229     1.6436   0.00351514\n",
      "a_subj.6         2.39376    0.100291    2.19236   2.32632   2.39406     2.4608     2.5925   0.00447612\n",
      "a_subj.8         2.49353    0.132293    2.23753   2.40396   2.49135    2.57203    2.77695   0.00695635\n",
      "a_subj.12        1.90207   0.0684117    1.77964   1.85209   1.89715    1.94514    2.05585   0.00313201\n",
      "a_subj.17        1.40287   0.0822611    1.22774   1.35337   1.40235    1.45487    1.56221   0.00487811\n",
      "a_subj.18        1.90812    0.125013    1.67796   1.81644   1.90952    1.99562    2.15789   0.00679012\n",
      "a_subj.19        2.08064    0.085651    1.92067   2.02268   2.08202    2.13764    2.24183   0.00446387\n",
      "a_subj.20        1.71228   0.0794146    1.55761   1.65782   1.70888    1.76279     1.8681   0.00369196\n",
      "a_subj.22        1.19307   0.0335414    1.12915   1.17129   1.19207    1.21472    1.26232   0.00158518\n",
      "a_subj.23        1.93739   0.0895423    1.76888   1.87749   1.93578    1.99651    2.12028   0.00376337\n",
      "a_subj.24        1.68377   0.0952974      1.514   1.62176   1.68111    1.74522    1.87941   0.00482898\n",
      "a_subj.26        2.23807   0.0803151    2.08342   2.18239   2.23925    2.29066    2.40204   0.00362931\n",
      "a_subj.33        1.56624    0.066382    1.44514   1.51945   1.56395    1.61366    1.70245   0.00274963\n",
      "a_subj.34        1.81803   0.0883775    1.64683   1.75351   1.82055    1.87853    1.99149   0.00376558\n",
      "a_subj.35        1.83533   0.0975695    1.64512   1.77156   1.83433     1.9008    2.03218   0.00488217\n",
      "a_subj.36        1.31686   0.0685052    1.19867    1.2683   1.31396    1.35797    1.46606   0.00292263\n",
      "a_subj.39        1.57041   0.0530064    1.47084   1.53222   1.57151    1.60465    1.68414   0.00183899\n",
      "a_subj.42        1.72821   0.0757661    1.58521   1.67929    1.7261    1.77948     1.8817   0.00388646\n",
      "a_subj.50        1.46984   0.0556356     1.3657   1.42899   1.46951    1.51015    1.57257   0.00366184\n",
      "a_subj.52         2.1227   0.0885946    1.95207   2.06009   2.12394    2.18527    2.29723   0.00371883\n",
      "a_subj.56        1.47025   0.0482088    1.37467   1.44058   1.46858    1.50214    1.56976   0.00245215\n",
      "a_subj.59        1.31005   0.0817522    1.16181   1.25224   1.30721    1.36636    1.46954   0.00524295\n",
      "a_subj.63         1.8639   0.0883703    1.71047     1.801    1.8624    1.92234    2.04382   0.00375231\n",
      "a_subj.71        1.24626   0.0340768    1.17937   1.22192   1.24647    1.27036    1.31251   0.00140437\n",
      "a_subj.75        0.97873   0.0365919   0.913123  0.951568  0.977399    1.00419    1.05616   0.00179393\n",
      "a_subj.80          2.187   0.0965787    2.00696   2.12386   2.18203    2.24945    2.37954   0.00388193\n",
      "v                4.08209    0.737245    2.64887   3.57663   4.09291     4.5691     5.5414    0.0458143\n",
      "v_std            3.05484    0.575751    2.07762   2.64448   2.98722    3.40931    4.34097    0.0386874\n",
      "v_subj.3          5.3036      2.4037    1.33138   3.46797   5.08761    6.83865      10.67     0.180208\n",
      "v_subj.4        0.936614    0.141934   0.679051  0.839064  0.931719    1.02271    1.23745   0.00588382\n",
      "v_subj.5         5.06788     2.26694    1.35156   3.39827   4.84072    6.55001    10.3183     0.158873\n",
      "v_subj.6         4.58494      2.4764    1.19679   2.43696   4.25878    6.21347    9.97977     0.218163\n",
      "v_subj.8          3.1593      1.1972    1.73287   2.40894   2.89231    3.50444    6.66669    0.0985572\n",
      "v_subj.12        1.83104    0.224408    1.44052   1.67555   1.81061     1.9754    2.30106    0.0107878\n",
      "v_subj.17        6.93416     2.22622    3.44608   5.39757   6.56186    8.19763    12.2283     0.168861\n",
      "v_subj.18        6.12272     1.59534    3.55255   4.97474   5.93287    7.09307    9.95941     0.122813\n",
      "v_subj.19        11.7997      1.9933    8.60538   10.4711   11.5523    12.8174    16.4139     0.156147\n",
      "v_subj.20        4.72675     1.23807    2.99018   3.87997   4.53657     5.3181    7.96896     0.104607\n",
      "v_subj.22        2.19815    0.283286    1.68683    1.9937   2.18769    2.39485    2.73678    0.0128246\n",
      "v_subj.23         2.4331     1.50181   0.959062    1.4395   1.90909    2.89597    6.60491     0.128198\n",
      "v_subj.24        5.12042    0.753118    3.67884   4.60547   5.10993    5.62647    6.63844    0.0334464\n",
      "v_subj.26       0.602543    0.863859    0.24547  0.404374  0.466825   0.555059    1.98844    0.0705156\n",
      "v_subj.33        2.73658     2.10267   0.282828   1.14428    2.1263    3.89181    8.07948     0.120839\n",
      "v_subj.34        4.11408     2.32502    1.11361   2.29809   3.65292    5.45819    9.77123      0.15346\n",
      "v_subj.35        3.14171     1.87384    1.09744   1.80252   2.57169    3.96941    7.90195     0.155472\n",
      "v_subj.36        3.87701     2.00542    1.52318   2.39526   3.27531    4.79694     9.1923     0.161708\n",
      "v_subj.39         2.0298     1.62953    0.34513  0.935087   1.45793    2.58893    6.68562     0.107378\n",
      "v_subj.42        5.16806     1.89934    2.28067   3.90109   4.91005    6.18106    9.81468     0.164759\n",
      "v_subj.50        5.57649     1.79009    2.85308   4.24585   5.34125    6.59774    9.84759     0.141939\n",
      "v_subj.52        3.18577     1.84878    1.16424   1.85057   2.71706    3.88391    8.41286        0.159\n",
      "v_subj.56        2.05017     1.91277   0.258263  0.703241   1.36834    2.86095    7.32663      0.14203\n",
      "v_subj.59        10.9111     1.82836    7.62548   9.62643   10.8841    12.1672    14.6141     0.133133\n",
      "v_subj.63        2.22187     1.32504   0.988662    1.4741   1.91208    2.45281     6.4643     0.105276\n",
      "v_subj.71        2.17006     1.78241   0.603637   1.08317   1.48305    2.50471    7.27104     0.149917\n",
      "v_subj.75        3.71969    0.552382    2.70805   3.34183   3.69385    4.06496     4.9227    0.0277269\n",
      "v_subj.80        4.03709     2.17552   0.986179   2.27813   3.66944    5.33457      9.111     0.170157\n",
      "t               0.432885   0.0415403   0.356521  0.404121  0.431653   0.462548   0.511254   0.00178714\n",
      "t_std           0.232643   0.0394899   0.169301  0.203101  0.227423   0.257429   0.315877   0.00179352\n",
      "t_subj.3         1.06317   0.0271769   0.999802   1.04743   1.06651    1.08276    1.10684   0.00129274\n",
      "t_subj.4        0.527059   0.0179398   0.488522  0.515254  0.528076   0.539991   0.557209  0.000826279\n",
      "t_subj.5        0.528425   0.0158093   0.493437  0.519202  0.529042   0.538151   0.559482  0.000756408\n",
      "t_subj.6        0.398728   0.0316425   0.330672  0.379382  0.399754    0.41924   0.461281   0.00145695\n",
      "t_subj.8        0.663496   0.0406703   0.573784  0.638121  0.667493   0.692995   0.734004   0.00220312\n",
      "t_subj.12       0.408965   0.0147454   0.378986  0.398904  0.410359    0.41963   0.436432  0.000711611\n",
      "t_subj.17       0.500941   0.0182598   0.472563  0.491633  0.499139   0.505433   0.563134   0.00142979\n",
      "t_subj.18       0.433627   0.0282406   0.371316  0.416532  0.438131   0.455078    0.47849   0.00153929\n",
      "t_subj.19       0.419058   0.0150433   0.387912  0.409382  0.419564   0.429151     0.4471  0.000741052\n",
      "t_subj.20        0.51628   0.0127393   0.491093  0.507661  0.516726   0.525528   0.538053  0.000610317\n",
      "t_subj.22        0.33496  0.00518669   0.324114  0.331928  0.335304   0.338463   0.344235  0.000253281\n",
      "t_subj.23       0.481226   0.0226842   0.431716  0.466665  0.483849   0.497623   0.519431  0.000941342\n",
      "t_subj.24       0.453762    0.013039   0.425115  0.445645  0.454502   0.462701    0.47683  0.000579678\n",
      "t_subj.26       0.440285   0.0338985   0.372521  0.414917  0.443772   0.468245    0.49323   0.00164635\n",
      "t_subj.33       0.194727   0.0156474   0.164383  0.184158  0.194446   0.204649   0.225083  0.000671091\n",
      "t_subj.34       0.344477   0.0311183   0.276129  0.327923  0.345049   0.361748   0.413056   0.00126463\n",
      "t_subj.35       0.326443   0.0258584   0.273692  0.309526   0.32619   0.343838   0.377765   0.00119399\n",
      "t_subj.36        0.44915   0.0134952   0.415288  0.443814  0.452192   0.458502   0.466911  0.000650595\n",
      "t_subj.39       0.619389   0.0110796   0.595795  0.612534  0.620065   0.627238   0.638565  0.000401916\n",
      "t_subj.42       0.393542   0.0155789   0.362458  0.383731  0.394086   0.404417   0.422266  0.000830944\n",
      "t_subj.50       0.518358   0.0214237   0.479266  0.498422  0.524998   0.536913   0.548587   0.00150307\n",
      "t_subj.52       0.514745   0.0238354    0.46713  0.499788  0.515337   0.530868    0.56368   0.00104662\n",
      "t_subj.56       0.118365   0.0108243  0.0959725   0.11129  0.119001    0.12587   0.139238   0.00054126\n",
      "t_subj.59        0.37923   0.0228073   0.332184  0.363319  0.377838    0.39906   0.415741   0.00167972\n",
      "t_subj.63       0.478244   0.0193531   0.437445  0.466752  0.479564   0.491179   0.513794  0.000800474\n",
      "t_subj.71       0.162673   0.0054732   0.150777  0.159311  0.162957   0.166633   0.172557  0.000235596\n",
      "t_subj.75       0.260777  0.00626259   0.244606  0.258207  0.262153   0.264765   0.269822  0.000295097\n",
      "t_subj.80      0.0417991   0.0176072  0.0114696  0.028693  0.041848  0.0536039  0.0781576  0.000700406\n",
      "alpha           -2.46715    0.356073     -3.157  -2.69308  -2.48242   -2.24392   -1.74121    0.0195181\n",
      "alpha_std        1.46992    0.275563     1.0209   1.28032   1.45203    1.61981    2.09465    0.0155966\n",
      "alpha_subj.3    -3.43548    0.740258   -4.48635  -3.90149  -3.56324   -3.08342   -1.45227    0.0608327\n",
      "alpha_subj.4    0.191786    0.595174  -0.801725 -0.213263  0.126076    0.52319    1.65872    0.0268693\n",
      "alpha_subj.5    -3.28297    0.771161   -4.52565   -3.7898  -3.39336   -2.93093   -1.27709    0.0562957\n",
      "alpha_subj.6    -3.69185    0.841373   -4.92836  -4.33939  -3.87057    -3.1469   -1.67019    0.0743001\n",
      "alpha_subj.8    -2.29198    0.611898   -3.76992  -2.61173  -2.22875   -1.86592   -1.29704     0.047517\n",
      "alpha_subj.12  -0.780933    0.425905   -1.62084  -1.05694 -0.786673  -0.502726  0.0835042    0.0206346\n",
      "alpha_subj.17   -2.81596    0.484016   -3.76465  -3.14894  -2.81048    -2.5293   -1.77409    0.0371539\n",
      "alpha_subj.18   -2.75671    0.392851   -3.44184  -3.03159  -2.77331   -2.50711   -1.88007     0.030011\n",
      "alpha_subj.19    -3.7218    0.226315   -4.21729  -3.85334  -3.70381   -3.58146   -3.29365    0.0171907\n",
      "alpha_subj.20   -2.37897    0.438575   -3.25441  -2.65439   -2.3874   -2.09008   -1.51432    0.0362439\n",
      "alpha_subj.22  -0.975383    0.212324   -1.36486  -1.12002 -0.979027  -0.845113  -0.547454   0.00859101\n",
      "alpha_subj.23   -2.29157    0.971566   -4.14016  -2.95807  -2.24846   -1.50684  -0.582361    0.0809592\n",
      "alpha_subj.24   -1.49115    0.231074   -1.95491  -1.64755  -1.47849   -1.33537   -1.05145   0.00874484\n",
      "alpha_subj.26   0.477848     1.54335   -5.25248  0.166103  0.700563     1.2395    2.52254      0.12061\n",
      "alpha_subj.33   -3.25956     1.33119   -5.54438  -4.22104  -3.29747   -2.31559  -0.650837    0.0832202\n",
      "alpha_subj.34    -2.9963    0.924299   -4.55411  -3.65087   -3.1139   -2.40745   -1.05377    0.0637804\n",
      "alpha_subj.35   -2.68266    0.985176   -4.42859  -3.41642  -2.76104   -1.94719  -0.782148    0.0807771\n",
      "alpha_subj.36   -2.35113    0.964568   -3.91305  -3.07013  -2.41253    -1.6805  -0.415103    0.0775148\n",
      "alpha_subj.39   -3.07825     1.23011   -5.28098  -4.03919  -3.06089   -2.16057  -0.719406    0.0801558\n",
      "alpha_subj.42   -3.14098     0.59356   -4.12935  -3.52327  -3.22374   -2.80894   -1.82638    0.0516964\n",
      "alpha_subj.50   -3.78284    0.656364   -4.82933  -4.26283  -3.87635   -3.39796   -2.22331    0.0510745\n",
      "alpha_subj.52   -3.24081     0.75318   -4.72941  -3.78718  -3.26367   -2.68309   -1.89825    0.0642394\n",
      "alpha_subj.56   -3.88438      1.4086   -6.07973  -4.95683  -4.04305   -2.87882  -0.949276     0.107409\n",
      "alpha_subj.59   -2.54493    0.225305   -2.98248  -2.69149  -2.55072   -2.39734   -2.06605    0.0149846\n",
      "alpha_subj.63   -2.04163    0.949775      -4.16  -2.56008  -1.95309   -1.44029  -0.246927    0.0683846\n",
      "alpha_subj.71   -2.84608     1.54153   -5.48198  -4.07678  -2.63727    -1.8612    0.43124     0.123145\n",
      "alpha_subj.75   -1.37871     0.44339   -2.24472  -1.67589  -1.36566   -1.06067  -0.558518    0.0223029\n",
      "alpha_subj.80   -3.22538    0.795376   -4.50105  -3.82306  -3.32231   -2.75346   -1.47653    0.0631666\n",
      "DIC: 10127.947410\n",
      "deviance: 10059.166818\n",
      "pD: 68.780592\n"
     ]
    }
   ],
   "source": [
    "# run the model by calling hddm.HDDMrl (instead of hddm.HDDM for normal HDDM)\n",
    "m = hddm.HDDMrl(data)\n",
    "# set sample and burn-in\n",
    "m.sample(1500, burn=500, dbname=\"traces.db\", db=\"pickle\")\n",
    "# print stats to get an overview of posterior distribution of estimated parameters\n",
    "m.print_stats()"
   ]
  },
  {
   "cell_type": "markdown",
   "metadata": {},
   "source": [
    "__Interpreting output from print_stats:__  <br>\n",
    "The model estimates group mean and standard deviation parameters and subject parameters for the following latent variables: <br>\n",
    "a = decision threshold <br>\n",
    "v = scaling parameter <br>\n",
    "t = non-decision time <br>\n",
    "alpha = learning rate, note that it's not bound between 0 and 1. to transform take inverse logit: np.exp(alpha)/(1+np.exp(alpha)) <br>\n",
    "The columns represent the mean, standard deviation and quantiles of the approximated posterior distribution of each parameter"
   ]
  },
  {
   "cell_type": "markdown",
   "metadata": {},
   "source": [
    "### HDDMrl vs. HDDM\n",
    "__There are a few things to note that is different from the normal HDDM model.__ <br>\n",
    "First of all, the estimated learning rate does not necessarily fall between 0 and 1. This is because it is estimated as a normal distribution for purposes of sampling hierarchically and then transformed by an inverse logit function to 0<alpha<1. So to interpret alpha as learning rate you have to transform the samples in the trace back with np.exp(alpha)/(1+np.exp(alpha)). And if you estimate separate learning rates for positive and negative prediction errors ([see here](#9.-Separate-learning-rates-for-positive-and-negative-prediction-errors)) then you get learning rate for negative prediction errors with np.exp(alpha)/(1+np.exp(alpha)) and positive prediction errors with np.exp(pos_alpha)/(1+np.exp(pos_alpha)).<br>\n",
    "Second, the v-parameter in the output is the scaling factor that is multiplied by the difference in q-values, so it is not the actual drift rate (or rather, it is the equivalent drift rate when the difference in Q values is exactly 1)."
   ]
  },
  {
   "cell_type": "markdown",
   "metadata": {},
   "source": [
    "## 6. Checking results"
   ]
  },
  {
   "cell_type": "code",
   "execution_count": 4,
   "metadata": {},
   "outputs": [
    {
     "name": "stdout",
     "output_type": "stream",
     "text": [
      "Plotting a\n",
      "Plotting a_std\n",
      "Plotting v\n",
      "Plotting v_std\n",
      "Plotting t\n",
      "Plotting t_std\n",
      "Plotting alpha\n",
      "Plotting alpha_std\n"
     ]
    },
    {
     "data": {
      "image/png": "[encoded data removed]",
      "text/plain": [
       "<Figure size 720x432 with 3 Axes>"
      ]
     },
     "metadata": {
      "needs_background": "light"
     },
     "output_type": "display_data"
    },
    {
     "data": {
      "image/png": "[encoded data removed]",
      "text/plain": [
       "<Figure size 720x432 with 3 Axes>"
      ]
     },
     "metadata": {
      "needs_background": "light"
     },
     "output_type": "display_data"
    },
    {
     "data": {
      "image/png": "[encoded data removed]",
      "text/plain": [
       "<Figure size 720x432 with 3 Axes>"
      ]
     },
     "metadata": {
      "needs_background": "light"
     },
     "output_type": "display_data"
    },
    {
     "data": {
      "image/png": "[encoded data removed]",
      "text/plain": [
       "<Figure size 720x432 with 3 Axes>"
      ]
     },
     "metadata": {
      "needs_background": "light"
     },
     "output_type": "display_data"
    },
    {
     "data": {
      "image/png": "[encoded data removed]",
      "text/plain": [
       "<Figure size 720x432 with 3 Axes>"
      ]
     },
     "metadata": {
      "needs_background": "light"
     },
     "output_type": "display_data"
    },
    {
     "data": {
      "image/png": "[encoded data removed]",
      "text/plain": [
       "<Figure size 720x432 with 3 Axes>"
      ]
     },
     "metadata": {
      "needs_background": "light"
     },
     "output_type": "display_data"
    },
    {
     "data": {
      "image/png": "[encoded data removed]",
      "text/plain": [
       "<Figure size 720x432 with 3 Axes>"
      ]
     },
     "metadata": {
      "needs_background": "light"
     },
     "output_type": "display_data"
    },
    {
     "data": {
      "image/png": "[encoded data removed]",
      "text/plain": [
       "<Figure size 720x432 with 3 Axes>"
      ]
     },
     "metadata": {
      "needs_background": "light"
     },
     "output_type": "display_data"
    }
   ],
   "source": [
    "# plot the posteriors of parameters\n",
    "m.plot_posteriors()"
   ]
  },
  {
   "cell_type": "markdown",
   "metadata": {},
   "source": [
    "__Fig__. The mixing of the posterior distribution and autocorrelation looks ok."
   ]
  },
  {
   "cell_type": "markdown",
   "metadata": {},
   "source": [
    "### Convergence of chains\n",
    "The Gelman-Rubin statistic is a test of whether the chains in the model converges. The Gelman-Ruben statistic measures the degree of variation between and within chains. Values close to 1 indicate convergence and that there is small variation between chains, i.e. that they end up as the same distribution across chains. A common heuristic is to assume convergence if all values are below 1.1. To run this you need to run multiple models, combine them and perform the Gelman-Rubin statistic:"
   ]
  },
  {
   "cell_type": "code",
   "execution_count": null,
   "metadata": {},
   "outputs": [],
   "source": [
    "# estimate convergence\n",
    "from kabuki.analyze import gelman_rubin\n",
    "\n",
    "models = []\n",
    "for i in range(3):\n",
    "    m = hddm.HDDMrl(data=data)\n",
    "    m.sample(1500, burn=500, dbname=\"traces.db\", db=\"pickle\")\n",
    "    models.append(m)\n",
    "\n",
    "gelman_rubin(models)"
   ]
  },
  {
   "cell_type": "code",
   "execution_count": null,
   "metadata": {},
   "outputs": [],
   "source": [
    "np.max(list(gelman_rubin(models).values()))"
   ]
  },
  {
   "cell_type": "markdown",
   "metadata": {},
   "source": [
    "The model seems to have converged, i.e. the Gelman-Rubin statistic is below 1.1 for all parameters. It is important to always run this test, especially for more complex models ([as with separate learning rates for positive and negative prediction errors](#9.-Separate-learning-rates-for-positive-and-negative-prediction-errors)). So now we can combine these three models to get a better approximation of the posterior distribution."
   ]
  },
  {
   "cell_type": "code",
   "execution_count": null,
   "metadata": {},
   "outputs": [],
   "source": [
    "# Combine the models we ran to test for convergence.\n",
    "m = kabuki.utils.concat_models(models)"
   ]
  },
  {
   "cell_type": "markdown",
   "metadata": {},
   "source": [
    "### Joint posterior distribution\n",
    "Another test of the model is to look at collinearity. If the estimation of parameters is very codependent (correlation is strong) it can indicate that their variance trades off, in particular if there is a negative correlation. The following plot shows there is generally low correlation across all combinations of parameters. It does not seem to be the case for this dataset, but common for RLDDM is a negative correlation between learning rate and the scaling factor, similar to what's usually observed between learning rate and inverse temperature for RL models that uses softmax as the choice rule (e.g. [Daw, 2011](https://www.oxfordscholarship.com/view/10.1093/acprof:oso/9780199600434.001.0001/acprof-9780199600434-chapter-001))."
   ]
  },
  {
   "cell_type": "code",
   "execution_count": null,
   "metadata": {},
   "outputs": [],
   "source": [
    "alpha, t, a, v = m.nodes_db.node[[\"alpha\", \"t\", \"a\", \"v\"]]\n",
    "samples = {\"alpha\": alpha.trace(), \"t\": t.trace(), \"a\": a.trace(), \"v\": v.trace()}\n",
    "samp = pd.DataFrame(data=samples)\n",
    "\n",
    "\n",
    "def corrfunc(x, y, **kws):\n",
    "    r, _ = stats.pearsonr(x, y)\n",
    "    ax = plt.gca()\n",
    "    ax.annotate(\"r = {:.2f}\".format(r), xy=(0.1, 0.9), xycoords=ax.transAxes)\n",
    "\n",
    "\n",
    "g = sns.PairGrid(samp, palette=[\"red\"])\n",
    "g.map_upper(plt.scatter, s=10)\n",
    "g.map_diag(sns.distplot, kde=False)\n",
    "g.map_lower(sns.kdeplot, cmap=\"Blues_d\")\n",
    "g.map_lower(corrfunc)\n",
    "g.savefig(\"matrix_plot.png\")"
   ]
  },
  {
   "cell_type": "markdown",
   "metadata": {},
   "source": [
    "## 7. Posterior predictive checks"
   ]
  },
  {
   "cell_type": "markdown",
   "metadata": {},
   "source": [
    "An important test of the model is its ability to recreate the observed data. This can be tested with posterior predictive checks, which involves simulating data using estimated parameters and comparing observed and simulated results."
   ]
  },
  {
   "cell_type": "markdown",
   "metadata": {},
   "source": [
    "### extract traces\n",
    "The first step then is to extract the traces from the estimated model. The function get_traces() gives you the samples (row) from the approaximated posterior distribution for all of the estimated group and subject parameters (column)."
   ]
  },
  {
   "cell_type": "code",
   "execution_count": null,
   "metadata": {},
   "outputs": [],
   "source": [
    "traces = m.get_traces()\n",
    "traces.head()"
   ]
  },
  {
   "cell_type": "markdown",
   "metadata": {},
   "source": [
    "### simulating data\n",
    "__Now that we have the traces the next step is to simulate data using the estimated parameters. The RLDDM includes a function to simulate data. Here's an example of how to use the simulation-function for RLDDM. This example explains how to generate data with binary outcomes. See [here](#11.-Probabilistic-binary-outcomes-vs.-normally-distributed-outcomes) for an example on simulating data with normally distributed outcomes. Inputs to function: <br>\n",
    "a__ = decision threshold <br>\n",
    "**t** = non-decision time <br>\n",
    "__alpha__ = learning rate <br>\n",
    "__pos_alpha__ = defaults to 0. if given it defines the learning rate for positive prediction errors. alpha then becomes the learning rate_ for negative prediction errors.  <br>\n",
    "__scaler__ = the scaling factor that is multiplied with the difference in q-values to calculate trial-by-trial drift rate <br>\n",
    "__p_upper__ = the probability of reward for the option represented by the upper boundary. The current version thus only works for outcomes that are either 1 or 0 <br>\n",
    "__p_lower__ = the probability of reward for the option represented by the lower boundary. <br>\n",
    "__subjs__ = number of subjects to simulate data for. <br>\n",
    "__split_by__ = define the condition which makes it easier to append data from different conditions. <br>\n",
    "__size__ = number of trials per subject. <br>"
   ]
  },
  {
   "cell_type": "code",
   "execution_count": null,
   "metadata": {},
   "outputs": [],
   "source": [
    "hddm.generate.gen_rand_rlddm_data(\n",
    "    a=1,\n",
    "    t=0.3,\n",
    "    alpha=0.2,\n",
    "    scaler=2,\n",
    "    p_upper=0.8,\n",
    "    p_lower=0.2,\n",
    "    subjs=1,\n",
    "    split_by=0,\n",
    "    size=10,\n",
    ")"
   ]
  },
  {
   "cell_type": "markdown",
   "metadata": {},
   "source": [
    "__How to interpret columns in the resulting dataframe__ <br>\n",
    "__q_up__ = expected reward for option represented by upper boundary <br>\n",
    "__q_low__ = expected reward for option represented by lower boundary <br>\n",
    "__sim_drift__ = the drift rate for each trial calculated as: (q_up-q_low)*scaler <br>\n",
    "__response__ = simulated choice <br>\n",
    "__rt__ = simulated response time <br>\n",
    "__feedback__ = observed feedback for chosen option <br>\n",
    "__subj_idx__ = subject id (starts at 0) <br>\n",
    "__split_by__ = condition as integer <br>\n",
    "__trial__ = current trial (starts at 1) <br>"
   ]
  },
  {
   "cell_type": "markdown",
   "metadata": {},
   "source": [
    "### Simulate data with estimated parameter values and compare to observed data\n",
    "Now that we know how to extract traces and simulate data we can combine this to create a dataset similar to our observed data. This process is currently not automated but the following is an example code using the dataset we analyzed above."
   ]
  },
  {
   "cell_type": "code",
   "execution_count": null,
   "metadata": {},
   "outputs": [],
   "source": [
    "from tqdm import tqdm  # progress tracker\n",
    "\n",
    "# create empty dataframe to store simulated data\n",
    "sim_data = pd.DataFrame()\n",
    "# create a column samp to be used to identify the simulated data sets\n",
    "data[\"samp\"] = 0\n",
    "# load traces\n",
    "traces = m.get_traces()\n",
    "# decide how many times to repeat simulation process. repeating this multiple times is generally recommended,\n",
    "# as it better captures the uncertainty in the posterior distribution, but will also take some time\n",
    "for i in tqdm(range(1, 51)):\n",
    "    # randomly select a row in the traces to use for extracting parameter values\n",
    "    sample = np.random.randint(0, traces.shape[0] - 1)\n",
    "    # loop through all subjects in observed data\n",
    "    for s in data.subj_idx.unique():\n",
    "        # get number of trials for each condition.\n",
    "        size0 = len(\n",
    "            data[(data[\"subj_idx\"] == s) & (data[\"split_by\"] == 0)].trial.unique()\n",
    "        )\n",
    "        size1 = len(\n",
    "            data[(data[\"subj_idx\"] == s) & (data[\"split_by\"] == 1)].trial.unique()\n",
    "        )\n",
    "        size2 = len(\n",
    "            data[(data[\"subj_idx\"] == s) & (data[\"split_by\"] == 2)].trial.unique()\n",
    "        )\n",
    "        # set parameter values for simulation\n",
    "        a = traces.loc[sample, \"a_subj.\" + str(s)]\n",
    "        t = traces.loc[sample, \"t_subj.\" + str(s)]\n",
    "        scaler = traces.loc[sample, \"v_subj.\" + str(s)]\n",
    "        alphaInv = traces.loc[sample, \"alpha_subj.\" + str(s)]\n",
    "        # take inverse logit of estimated alpha\n",
    "        alpha = np.exp(alphaInv) / (1 + np.exp(alphaInv))\n",
    "        # simulate data for each condition changing only values of size, p_upper, p_lower and split_by between conditions.\n",
    "        sim_data0 = hddm.generate.gen_rand_rlddm_data(\n",
    "            a=a,\n",
    "            t=t,\n",
    "            scaler=scaler,\n",
    "            alpha=alpha,\n",
    "            size=size0,\n",
    "            p_upper=0.8,\n",
    "            p_lower=0.2,\n",
    "            split_by=0,\n",
    "        )\n",
    "        sim_data1 = hddm.generate.gen_rand_rlddm_data(\n",
    "            a=a,\n",
    "            t=t,\n",
    "            scaler=scaler,\n",
    "            alpha=alpha,\n",
    "            size=size1,\n",
    "            p_upper=0.7,\n",
    "            p_lower=0.3,\n",
    "            split_by=1,\n",
    "        )\n",
    "        sim_data2 = hddm.generate.gen_rand_rlddm_data(\n",
    "            a=a,\n",
    "            t=t,\n",
    "            scaler=scaler,\n",
    "            alpha=alpha,\n",
    "            size=size2,\n",
    "            p_upper=0.6,\n",
    "            p_lower=0.4,\n",
    "            split_by=2,\n",
    "        )\n",
    "        # append the conditions\n",
    "        sim_data0 = sim_data0.append([sim_data1, sim_data2], ignore_index=True)\n",
    "        # assign subj_idx\n",
    "        sim_data0[\"subj_idx\"] = s\n",
    "        # identify that these are simulated data\n",
    "        sim_data0[\"type\"] = \"simulated\"\n",
    "        # identify the simulated data\n",
    "        sim_data0[\"samp\"] = i\n",
    "        # append data from each subject\n",
    "        sim_data = sim_data.append(sim_data0, ignore_index=True)\n",
    "# combine observed and simulated data\n",
    "ppc_data = data[\n",
    "    [\"subj_idx\", \"response\", \"split_by\", \"rt\", \"trial\", \"feedback\", \"samp\"]\n",
    "].copy()\n",
    "ppc_data[\"type\"] = \"observed\"\n",
    "ppc_sdata = sim_data[\n",
    "    [\"subj_idx\", \"response\", \"split_by\", \"rt\", \"trial\", \"feedback\", \"type\", \"samp\"]\n",
    "].copy()\n",
    "ppc_data = ppc_data.append(ppc_sdata)\n",
    "ppc_data.to_csv(\"ppc_data_tutorial.csv\")"
   ]
  },
  {
   "cell_type": "markdown",
   "metadata": {},
   "source": [
    "### Plotting\n",
    "Now that we have a dataframe with both observed and simulated data we can plot to see whether the simulated data are able to capture observed choice and reaction times. To capture the uncertainty in the simulated data we want to identify how much choice and reaction differs across the simulated data sets. A good measure of this is to calculate the highest posterior density/highest density interval for summary scores of the generated data. Below we calculate highest posterior density with an alpha set to 0.1, which means that we are describing the range of the 90% most likely values."
   ]
  },
  {
   "cell_type": "code",
   "execution_count": null,
   "metadata": {},
   "outputs": [],
   "source": [
    "# for practical reasons we only look at the first 40 trials for each subject in a given condition\n",
    "plot_ppc_data = ppc_data[ppc_data.trial < 41].copy()"
   ]
  },
  {
   "cell_type": "markdown",
   "metadata": {},
   "source": [
    "### Choice"
   ]
  },
  {
   "cell_type": "code",
   "execution_count": null,
   "metadata": {},
   "outputs": [],
   "source": [
    "# bin trials to for smoother estimate of response proportion across learning\n",
    "plot_ppc_data[\"bin_trial\"] = pd.cut(\n",
    "    plot_ppc_data.trial, 11, labels=np.linspace(0, 10, 11)\n",
    ").astype(\"int64\")\n",
    "# calculate means for each sample\n",
    "sums = (\n",
    "    plot_ppc_data.groupby([\"bin_trial\", \"split_by\", \"samp\", \"type\"])\n",
    "    .mean()\n",
    "    .reset_index()\n",
    ")\n",
    "# calculate the overall mean response across samples\n",
    "ppc_sim = sums.groupby([\"bin_trial\", \"split_by\", \"type\"]).mean().reset_index()\n",
    "# initiate columns that will have the upper and lower bound of the hpd\n",
    "ppc_sim[\"upper_hpd\"] = 0\n",
    "ppc_sim[\"lower_hpd\"] = 0\n",
    "for i in range(0, ppc_sim.shape[0]):\n",
    "    # calculate the hpd/hdi of the predicted mean responses across bin_trials\n",
    "    hdi = pymc.utils.hpd(\n",
    "        sums.response[\n",
    "            (sums[\"bin_trial\"] == ppc_sim.bin_trial[i])\n",
    "            & (sums[\"split_by\"] == ppc_sim.split_by[i])\n",
    "            & (sums[\"type\"] == ppc_sim.type[i])\n",
    "        ],\n",
    "        alpha=0.1,\n",
    "    )\n",
    "    ppc_sim.loc[i, \"upper_hpd\"] = hdi[1]\n",
    "    ppc_sim.loc[i, \"lower_hpd\"] = hdi[0]\n",
    "# calculate error term as the distance from upper bound to mean\n",
    "ppc_sim[\"up_err\"] = ppc_sim[\"upper_hpd\"] - ppc_sim[\"response\"]\n",
    "ppc_sim[\"low_err\"] = ppc_sim[\"response\"] - ppc_sim[\"lower_hpd\"]\n",
    "ppc_sim[\"model\"] = \"RLDDM_single_learning\"\n",
    "ppc_sim.to_csv(\"ppc_choicedata_tutorial.csv\")"
   ]
  },
  {
   "cell_type": "code",
   "execution_count": null,
   "metadata": {},
   "outputs": [],
   "source": [
    "# plotting evolution of choice proportion for best option across learning for observed and simulated data.\n",
    "fig, axs = plt.subplots(figsize=(15, 5), nrows=1, ncols=3, sharex=True, sharey=True)\n",
    "for i in range(0, 3):\n",
    "    ax = axs[i]\n",
    "    d = ppc_sim[(ppc_sim.split_by == i) & (ppc_sim.type == \"simulated\")]\n",
    "    ax.errorbar(\n",
    "        d.bin_trial,\n",
    "        d.response,\n",
    "        yerr=[d.low_err, d.up_err],\n",
    "        label=\"simulated\",\n",
    "        color=\"orange\",\n",
    "    )\n",
    "    d = ppc_sim[(ppc_sim.split_by == i) & (ppc_sim.type == \"observed\")]\n",
    "    ax.plot(d.bin_trial, d.response, linewidth=3, label=\"observed\")\n",
    "    ax.set_title(\"split_by = %i\" % i, fontsize=20)\n",
    "    ax.set_ylabel(\"mean response\")\n",
    "    ax.set_xlabel(\"trial\")\n",
    "plt.legend()\n",
    "fig.savefig(\"PPCchoice.pdf\")"
   ]
  },
  {
   "cell_type": "markdown",
   "metadata": {},
   "source": [
    "__Fig.__ The plots display the rate of choosing the best option (response = 1) across learning and condition. The model generates data (orange) that closely follows the observed behavior (blue), with the exception of overpredicting performance early in the most difficult condition (split_by=2). Uncertainty in the generated data is captured by the 90% highest density interval of the means across simulated datasets."
   ]
  },
  {
   "cell_type": "markdown",
   "metadata": {},
   "source": [
    "### RT"
   ]
  },
  {
   "cell_type": "code",
   "execution_count": null,
   "metadata": {},
   "outputs": [],
   "source": [
    "# set reaction time to be negative for lower bound responses (response=0)\n",
    "plot_ppc_data[\"reaction time\"] = np.where(\n",
    "    plot_ppc_data[\"response\"] == 1, plot_ppc_data.rt, 0 - plot_ppc_data.rt\n",
    ")\n",
    "# plotting evolution of choice proportion for best option across learning for observed and simulated data. We use bins of trials because plotting individual trials would be very noisy.\n",
    "g = sns.FacetGrid(plot_ppc_data, col=\"split_by\", hue=\"type\")\n",
    "g.map(sns.kdeplot, \"reaction time\", bw=0.05).set_ylabels(\"Density\")\n",
    "g.add_legend()\n",
    "g.savefig(\"PPCrt_dist.pdf\")"
   ]
  },
  {
   "cell_type": "markdown",
   "metadata": {},
   "source": [
    "__Fig.__ Density plots of observed and predicted reaction time across conditions. RTs for lower boundary choices (i.e. worst option choices) are set to be negative (0-RT) to be able to separate upper and lower bound responses."
   ]
  },
  {
   "cell_type": "markdown",
   "metadata": {},
   "source": [
    "## 8. Parameter recovery\n",
    "To validate the RLDDM we ran a parameter recovery study to test to which degree the model can recover the parameter values used to simulate data. To do this we generated 81 synthetic datasets with 50 subjects performing 70 trials each. The 81 datasets were simulated using all combinations of three plausible parameter values for decision threshold, non-decision time, learning rate and the scaling parameter onto drift rate."
   ]
  },
  {
   "cell_type": "markdown",
   "metadata": {},
   "source": [
    "### Estimated values split by simulated vales \n",
    "We can plot simulated together with the estimated values to test the models ability to recover parameters, and to see if there are any values that are more difficult to recover than others."
   ]
  },
  {
   "cell_type": "code",
   "execution_count": null,
   "metadata": {},
   "outputs": [],
   "source": [
    "param_recovery = hddm.load_csv(\"recovery_sim_est_rlddm.csv\")"
   ]
  },
  {
   "cell_type": "code",
   "execution_count": null,
   "metadata": {},
   "outputs": [],
   "source": [
    "g = sns.catplot(x=\"a\", y=\"e_a\", data=param_recovery, palette=\"Set1\")\n",
    "g.set_axis_labels(\"Simulated threshold\", \"Estimated threshold\")\n",
    "plt.title(\"Decision threshold\")\n",
    "g.savefig(\"Threshold_recovery.pdf\")"
   ]
  },
  {
   "cell_type": "code",
   "execution_count": null,
   "metadata": {},
   "outputs": [],
   "source": [
    "g = sns.catplot(x=\"alpha\", y=\"e_alphaT\", data=param_recovery, palette=\"Set1\")\n",
    "g.set_axis_labels(\"Simulated alpha\", \"Estimated alpha\")\n",
    "plt.title(\"Learning rate\")\n",
    "g.savefig(\"Alpha_recovery.pdf\")"
   ]
  },
  {
   "cell_type": "code",
   "execution_count": null,
   "metadata": {},
   "outputs": [],
   "source": [
    "g = sns.catplot(x=\"scaler\", y=\"e_v\", data=param_recovery, palette=\"Set1\")\n",
    "g.set_axis_labels(\"Simulated scaling\", \"Estimated scaling\")\n",
    "plt.title(\"Scaling drift rate\")\n",
    "g.savefig(\"Scaler_recovery.pdf\")"
   ]
  },
  {
   "cell_type": "code",
   "execution_count": null,
   "metadata": {},
   "outputs": [],
   "source": [
    "g = sns.catplot(x=\"t\", y=\"e_t\", data=param_recovery, palette=\"Set1\")\n",
    "g.set_axis_labels(\"Simulated NDT\", \"Estimated NDT\")\n",
    "plt.title(\"Non-decision time\")\n",
    "g.savefig(\"NDT_recovery.pdf\")"
   ]
  },
  {
   "cell_type": "markdown",
   "metadata": {},
   "source": [
    "__Fig.__ The correlation between simulated and estimated parameter values are high, which means recovery is good. There is somewhat worse recovery for the learning rate and scaling parameter, which makes sense given that they to a degree can explain the same variance (see below)."
   ]
  },
  {
   "cell_type": "markdown",
   "metadata": {},
   "source": [
    "## 9. Separate learning rates for positive and negative prediction errors\n",
    "Several studies have reported differences in updating of expected rewards following positive and negative prediction errors (e.g. to capture differences between D1 and D2 receptor function). To model asymmetric updating rates for positive and negative prediction errors you can set dual=True in the model. This will produce two estimated learning rates; alpha and pos_alpha, of which alpha then becomes the estimated learning rate for negative prediction errors."
   ]
  },
  {
   "cell_type": "code",
   "execution_count": null,
   "metadata": {},
   "outputs": [],
   "source": [
    "# set dual=True to model separate learning rates for positive and negative prediction errors.\n",
    "m_dual = hddm.HDDMrl(data, dual=True)\n",
    "# set sample and burn-in\n",
    "m_dual.sample(1500, burn=500, dbname=\"traces.db\", db=\"pickle\")\n",
    "# print stats to get an overview of posterior distribution of estimated parameters\n",
    "m_dual.print_stats()"
   ]
  },
  {
   "cell_type": "code",
   "execution_count": null,
   "metadata": {},
   "outputs": [],
   "source": [
    "m_dual.plot_posteriors()"
   ]
  },
  {
   "cell_type": "markdown",
   "metadata": {},
   "source": [
    "__Fig.__ There's more autocorrelation in this model compared to the one with a single learning rate. First, let's test whether it converges."
   ]
  },
  {
   "cell_type": "code",
   "execution_count": null,
   "metadata": {},
   "outputs": [],
   "source": [
    "# estimate convergence\n",
    "models = []\n",
    "for i in range(3):\n",
    "    m = hddm.HDDMrl(data=data, dual=True)\n",
    "    m.sample(1500, burn=500, dbname=\"traces.db\", db=\"pickle\")\n",
    "    models.append(m)\n",
    "\n",
    "# get max gelman-statistic value. shouldn't be higher than 1.1\n",
    "np.max(list(gelman_rubin(models).values()))"
   ]
  },
  {
   "cell_type": "code",
   "execution_count": null,
   "metadata": {},
   "outputs": [],
   "source": [
    "gelman_rubin(models)"
   ]
  },
  {
   "cell_type": "markdown",
   "metadata": {},
   "source": [
    "Convergence looks good, i.e. no parameters with gelman-rubin statistic > 1.1."
   ]
  },
  {
   "cell_type": "code",
   "execution_count": null,
   "metadata": {},
   "outputs": [],
   "source": [
    "# Create a new model that has all traces concatenated\n",
    "# of individual models.\n",
    "m_dual = kabuki.utils.concat_models(models)"
   ]
  },
  {
   "cell_type": "markdown",
   "metadata": {},
   "source": [
    "And then we can have a look at the joint posterior distribution:"
   ]
  },
  {
   "cell_type": "code",
   "execution_count": null,
   "metadata": {},
   "outputs": [],
   "source": [
    "alpha, t, a, v, pos_alpha = m_dual.nodes_db.node[[\"alpha\", \"t\", \"a\", \"v\", \"pos_alpha\"]]\n",
    "samples = {\n",
    "    \"alpha\": alpha.trace(),\n",
    "    \"pos_alpha\": pos_alpha.trace(),\n",
    "    \"t\": t.trace(),\n",
    "    \"a\": a.trace(),\n",
    "    \"v\": v.trace(),\n",
    "}\n",
    "samp = pd.DataFrame(data=samples)\n",
    "\n",
    "\n",
    "def corrfunc(x, y, **kws):\n",
    "    r, _ = stats.pearsonr(x, y)\n",
    "    ax = plt.gca()\n",
    "    ax.annotate(\"r = {:.2f}\".format(r), xy=(0.1, 0.9), xycoords=ax.transAxes)\n",
    "\n",
    "\n",
    "g = sns.PairGrid(samp, palette=[\"red\"])\n",
    "g.map_upper(plt.scatter, s=10)\n",
    "g.map_diag(sns.distplot, kde=False)\n",
    "g.map_lower(sns.kdeplot, cmap=\"Blues_d\")\n",
    "g.map_lower(corrfunc)\n",
    "g.savefig(\"matrix_plot.png\")"
   ]
  },
  {
   "cell_type": "markdown",
   "metadata": {},
   "source": [
    "__Fig.__ The correlation between parameters is generally low. "
   ]
  },
  {
   "cell_type": "markdown",
   "metadata": {},
   "source": [
    "## Posterior predictive check\n",
    "The DIC for this dual learning rate model is better than for the single learning rate model. We can therefore check whether we can detect this improvement in the ability to recreate choice and RT patterns:"
   ]
  },
  {
   "cell_type": "code",
   "execution_count": null,
   "metadata": {},
   "outputs": [],
   "source": [
    "# create empty dataframe to store simulated data\n",
    "sim_data = pd.DataFrame()\n",
    "# create a column samp to be used to identify the simulated data sets\n",
    "data[\"samp\"] = 0\n",
    "# get traces, note here we extract traces from m_dual\n",
    "traces = m_dual.get_traces()\n",
    "# decide how many times to repeat simulation process. repeating this multiple times is generally recommended as it better captures the uncertainty in the posterior distribution, but will also take some time\n",
    "for i in tqdm(range(1, 51)):\n",
    "    # randomly select a row in the traces to use for extracting parameter values\n",
    "    sample = np.random.randint(0, traces.shape[0] - 1)\n",
    "    # loop through all subjects in observed data\n",
    "    for s in data.subj_idx.unique():\n",
    "        # get number of trials for each condition.\n",
    "        size0 = len(\n",
    "            data[(data[\"subj_idx\"] == s) & (data[\"split_by\"] == 0)].trial.unique()\n",
    "        )\n",
    "        size1 = len(\n",
    "            data[(data[\"subj_idx\"] == s) & (data[\"split_by\"] == 1)].trial.unique()\n",
    "        )\n",
    "        size2 = len(\n",
    "            data[(data[\"subj_idx\"] == s) & (data[\"split_by\"] == 2)].trial.unique()\n",
    "        )\n",
    "        # set parameter values for simulation\n",
    "        a = traces.loc[sample, \"a_subj.\" + str(s)]\n",
    "        t = traces.loc[sample, \"t_subj.\" + str(s)]\n",
    "        scaler = traces.loc[sample, \"v_subj.\" + str(s)]\n",
    "        # when generating data with two learning rates pos_alpha represents learning rate for positive prediction errors and alpha for negative prediction errors\n",
    "        alphaInv = traces.loc[sample, \"alpha_subj.\" + str(s)]\n",
    "        pos_alphaInv = traces.loc[sample, \"pos_alpha_subj.\" + str(s)]\n",
    "        # take inverse logit of estimated alpha and pos_alpha\n",
    "        alpha = np.exp(alphaInv) / (1 + np.exp(alphaInv))\n",
    "        pos_alpha = np.exp(pos_alphaInv) / (1 + np.exp(pos_alphaInv))\n",
    "        # simulate data for each condition changing only values of size, p_upper, p_lower and split_by between conditions.\n",
    "        sim_data0 = hddm.generate.gen_rand_rlddm_data(\n",
    "            a=a,\n",
    "            t=t,\n",
    "            scaler=scaler,\n",
    "            alpha=alpha,\n",
    "            pos_alpha=pos_alpha,\n",
    "            size=size0,\n",
    "            p_upper=0.8,\n",
    "            p_lower=0.2,\n",
    "            split_by=0,\n",
    "        )\n",
    "        sim_data1 = hddm.generate.gen_rand_rlddm_data(\n",
    "            a=a,\n",
    "            t=t,\n",
    "            scaler=scaler,\n",
    "            alpha=alpha,\n",
    "            pos_alpha=pos_alpha,\n",
    "            size=size1,\n",
    "            p_upper=0.7,\n",
    "            p_lower=0.3,\n",
    "            split_by=1,\n",
    "        )\n",
    "        sim_data2 = hddm.generate.gen_rand_rlddm_data(\n",
    "            a=a,\n",
    "            t=t,\n",
    "            scaler=scaler,\n",
    "            alpha=alpha,\n",
    "            pos_alpha=pos_alpha,\n",
    "            size=size2,\n",
    "            p_upper=0.6,\n",
    "            p_lower=0.4,\n",
    "            split_by=2,\n",
    "        )\n",
    "        # append the conditions\n",
    "        sim_data0 = sim_data0.append([sim_data1, sim_data2], ignore_index=True)\n",
    "        # assign subj_idx\n",
    "        sim_data0[\"subj_idx\"] = s\n",
    "        # identify that these are simulated data\n",
    "        sim_data0[\"type\"] = \"simulated\"\n",
    "        # identify the simulated data\n",
    "        sim_data0[\"samp\"] = i\n",
    "        # append data from each subject\n",
    "        sim_data = sim_data.append(sim_data0, ignore_index=True)\n",
    "# combine observed and simulated data\n",
    "ppc_dual_data = data[\n",
    "    [\"subj_idx\", \"response\", \"split_by\", \"rt\", \"trial\", \"feedback\", \"samp\"]\n",
    "].copy()\n",
    "ppc_dual_data[\"type\"] = \"observed\"\n",
    "ppc_dual_sdata = sim_data[\n",
    "    [\"subj_idx\", \"response\", \"split_by\", \"rt\", \"trial\", \"feedback\", \"type\", \"samp\"]\n",
    "].copy()\n",
    "ppc_dual_data = ppc_dual_data.append(ppc_dual_sdata)"
   ]
  },
  {
   "cell_type": "code",
   "execution_count": null,
   "metadata": {},
   "outputs": [],
   "source": [
    "# for practical reasons we only look at the first 40 trials for each subject in a given condition\n",
    "plot_ppc_dual_data = ppc_dual_data[ppc_dual_data.trial < 41].copy()"
   ]
  },
  {
   "cell_type": "markdown",
   "metadata": {},
   "source": [
    "### Choice"
   ]
  },
  {
   "cell_type": "code",
   "execution_count": null,
   "metadata": {},
   "outputs": [],
   "source": [
    "# bin trials to for smoother estimate of response proportion across learning\n",
    "plot_ppc_dual_data[\"bin_trial\"] = pd.cut(\n",
    "    plot_ppc_dual_data.trial, 11, labels=np.linspace(0, 10, 11)\n",
    ").astype(\"int64\")\n",
    "# calculate means for each sample\n",
    "sums = (\n",
    "    plot_ppc_dual_data.groupby([\"bin_trial\", \"split_by\", \"samp\", \"type\"])\n",
    "    .mean()\n",
    "    .reset_index()\n",
    ")\n",
    "# calculate the overall mean response across samples\n",
    "ppc_dual_sim = sums.groupby([\"bin_trial\", \"split_by\", \"type\"]).mean().reset_index()\n",
    "# initiate columns that will have the upper and lower bound of the hpd\n",
    "ppc_dual_sim[\"upper_hpd\"] = 0\n",
    "ppc_dual_sim[\"lower_hpd\"] = 0\n",
    "for i in range(0, ppc_dual_sim.shape[0]):\n",
    "    # calculate the hpd/hdi of the predicted mean responses across bin_trials\n",
    "    hdi = pymc.utils.hpd(\n",
    "        sums.response[\n",
    "            (sums[\"bin_trial\"] == ppc_dual_sim.bin_trial[i])\n",
    "            & (sums[\"split_by\"] == ppc_dual_sim.split_by[i])\n",
    "            & (sums[\"type\"] == ppc_dual_sim.type[i])\n",
    "        ],\n",
    "        alpha=0.1,\n",
    "    )\n",
    "    ppc_dual_sim.loc[i, \"upper_hpd\"] = hdi[1]\n",
    "    ppc_dual_sim.loc[i, \"lower_hpd\"] = hdi[0]\n",
    "# calculate error term as the distance from upper bound to mean\n",
    "ppc_dual_sim[\"up_err\"] = ppc_dual_sim[\"upper_hpd\"] - ppc_dual_sim[\"response\"]\n",
    "ppc_dual_sim[\"low_err\"] = ppc_dual_sim[\"response\"] - ppc_dual_sim[\"lower_hpd\"]\n",
    "ppc_dual_sim[\"model\"] = \"RLDDM_dual_learning\""
   ]
  },
  {
   "cell_type": "code",
   "execution_count": null,
   "metadata": {},
   "outputs": [],
   "source": [
    "# plotting evolution of choice proportion for best option across learning for observed and simulated data.\n",
    "fig, axs = plt.subplots(figsize=(15, 5), nrows=1, ncols=3, sharex=True, sharey=True)\n",
    "for i in range(0, 3):\n",
    "    ax = axs[i]\n",
    "    d = ppc_dual_sim[(ppc_dual_sim.split_by == i) & (ppc_dual_sim.type == \"simulated\")]\n",
    "    ax.errorbar(\n",
    "        d.bin_trial,\n",
    "        d.response,\n",
    "        yerr=[d.low_err, d.up_err],\n",
    "        label=\"simulated\",\n",
    "        color=\"orange\",\n",
    "    )\n",
    "    d = ppc_sim[(ppc_dual_sim.split_by == i) & (ppc_dual_sim.type == \"observed\")]\n",
    "    ax.plot(d.bin_trial, d.response, linewidth=3, label=\"observed\")\n",
    "    ax.set_title(\"split_by = %i\" % i, fontsize=20)\n",
    "    ax.set_ylabel(\"mean response\")\n",
    "    ax.set_xlabel(\"trial\")\n",
    "plt.legend()"
   ]
  },
  {
   "cell_type": "markdown",
   "metadata": {},
   "source": [
    "__Fig.__ The plots display the rate of choosing the best option (response = 1) across learning and condition. The model generates data (orange) that closely follows the observed behavior (blue), with the exception of performance early in the most difficult condition (split_by=2)."
   ]
  },
  {
   "cell_type": "markdown",
   "metadata": {},
   "source": [
    "### PPC for single vs. dual learning rate\n",
    "To get a better sense of differences in ability to predict data between the single and dual learning rate model we can plot them together:"
   ]
  },
  {
   "cell_type": "code",
   "execution_count": null,
   "metadata": {},
   "outputs": [],
   "source": [
    "# plotting evolution of choice proportion for best option across learning for observed and simulated data. Compared for model with single and dual learning rate.\n",
    "fig, axs = plt.subplots(figsize=(15, 5), nrows=1, ncols=3, sharex=True, sharey=True)\n",
    "for i in range(0, 3):\n",
    "    ax = axs[i]\n",
    "    d_single = ppc_sim[(ppc_sim.split_by == i) & (ppc_sim.type == \"simulated\")]\n",
    "    # slightly move bin_trial to avoid overlap in errorbars\n",
    "    d_single[\"bin_trial\"] += 0.2\n",
    "    ax.errorbar(\n",
    "        d_single.bin_trial,\n",
    "        d_single.response,\n",
    "        yerr=[d_single.low_err, d_single.up_err],\n",
    "        label=\"simulated_single\",\n",
    "        color=\"orange\",\n",
    "    )\n",
    "    d_dual = ppc_dual_sim[\n",
    "        (ppc_dual_sim.split_by == i) & (ppc_dual_sim.type == \"simulated\")\n",
    "    ]\n",
    "    ax.errorbar(\n",
    "        d_dual.bin_trial,\n",
    "        d_dual.response,\n",
    "        yerr=[d_dual.low_err, d_dual.up_err],\n",
    "        label=\"simulated_dual\",\n",
    "        color=\"green\",\n",
    "    )\n",
    "    d = ppc_sim[(ppc_dual_sim.split_by == i) & (ppc_dual_sim.type == \"observed\")]\n",
    "    ax.plot(d.bin_trial, d.response, linewidth=3, label=\"observed\")\n",
    "    ax.set_title(\"split_by = %i\" % i, fontsize=20)\n",
    "    ax.set_ylabel(\"mean response\")\n",
    "    ax.set_xlabel(\"trial\")\n",
    "plt.xlim(-0.5, 10.5)\n",
    "plt.legend()"
   ]
  },
  {
   "cell_type": "markdown",
   "metadata": {},
   "source": [
    "__Fig.__ The predictions from the model with two learning rates are not very different from the model with single learning rate, and a similar overprediction of performance early on for the most difficult condition (split_by =2)."
   ]
  },
  {
   "cell_type": "markdown",
   "metadata": {},
   "source": [
    "### RT"
   ]
  },
  {
   "cell_type": "code",
   "execution_count": null,
   "metadata": {},
   "outputs": [],
   "source": [
    "plot_ppc_data[\"type_compare\"] = np.where(\n",
    "    plot_ppc_data[\"type\"] == \"observed\",\n",
    "    plot_ppc_data[\"type\"],\n",
    "    \"simulated_single_learning\",\n",
    ")\n",
    "plot_ppc_dual_data[\"type_compare\"] = np.where(\n",
    "    plot_ppc_dual_data[\"type\"] == \"observed\",\n",
    "    plot_ppc_dual_data[\"type\"],\n",
    "    \"simulated_dual_learning\",\n",
    ")\n",
    "dual_vs_single_pcc = plot_ppc_data.append(plot_ppc_dual_data)\n",
    "dual_vs_single_pcc[\"reaction time\"] = np.where(\n",
    "    dual_vs_single_pcc[\"response\"] == 1,\n",
    "    dual_vs_single_pcc.rt,\n",
    "    0 - dual_vs_single_pcc.rt,\n",
    ")\n",
    "# plotting evolution of choice proportion for best option across learning for observed and simulated data. We use bins of trials because plotting individual trials would be very noisy.\n",
    "g = sns.FacetGrid(dual_vs_single_pcc, col=\"split_by\", hue=\"type_compare\", height=5)\n",
    "g.map(sns.kdeplot, \"reaction time\", bw=0.01).set_ylabels(\"Density\")\n",
    "g.add_legend()"
   ]
  },
  {
   "cell_type": "markdown",
   "metadata": {},
   "source": [
    "__Fig.__ Again there's not a big difference between the two models. Both models slightly overpredict performance for the medium (split_by =1) and hard (split_by = 2) conditions, as identified by lower densities for the negative (worst option choices) in the simulated compared to observed data."
   ]
  },
  {
   "cell_type": "markdown",
   "metadata": {},
   "source": [
    "### Transform alpha and pos_alpha\n",
    "To interpret the parameter estimates for alpha and pos_alpha you have to transform them with the inverse logit where learning rate for negative prediction error is alpha and learning rate for positive prediction errors is pos_alpha. For this dataset the learning rate is estimated to be higher for positive than negative prediction errors."
   ]
  },
  {
   "cell_type": "code",
   "execution_count": null,
   "metadata": {},
   "outputs": [],
   "source": [
    "# plot alpha for positive and negative learning rate\n",
    "traces = m_dual.get_traces()\n",
    "neg_alpha = np.exp(traces[\"alpha\"]) / (1 + np.exp(traces[\"alpha\"]))\n",
    "pos_alpha = np.exp(traces[\"pos_alpha\"]) / (1 + np.exp(traces[\"pos_alpha\"]))\n",
    "sns.kdeplot(\n",
    "    neg_alpha, color=\"r\", label=\"neg_alpha: \" + str(np.round(np.mean(neg_alpha), 3))\n",
    ")\n",
    "sns.kdeplot(\n",
    "    pos_alpha, color=\"b\", label=\"pos_alpha: \" + str(np.round(np.mean(pos_alpha), 3))\n",
    ")"
   ]
  },
  {
   "cell_type": "markdown",
   "metadata": {},
   "source": [
    "__Fig.__ The positive learning rate is estimated to be stronger than the negative learning rate. Sticky choice, tendencies to repeat choices, could be driving some of this difference. The current model does not allow to test for this, however, but it could be tested in the future if we implement a regression version of RLDDM (similar to HDDMRegressor)."
   ]
  },
  {
   "cell_type": "markdown",
   "metadata": {},
   "source": [
    "### Simulate data with learning rates for positive and negative prediction errors\n",
    "Here's how you would simulate data with a learning rate for positive and negative predictions of 0.2 and 0.4, respectively:"
   ]
  },
  {
   "cell_type": "code",
   "execution_count": null,
   "metadata": {},
   "outputs": [],
   "source": [
    "hddm.generate.gen_rand_rlddm_data(\n",
    "    a=1, t=0.3, alpha=0.2, pos_alpha=0.4, scaler=2, p_upper=0.8, p_lower=0.2, size=10\n",
    ")"
   ]
  },
  {
   "cell_type": "markdown",
   "metadata": {},
   "source": [
    "## 10. depends_on vs. split_by\n",
    "HDDMrl can be used to estimate separate parameters just as in the standard HDDM. But in RL you typically estimate the same learning rates and inverse temperature across conditions. That's one reason why you have to specify condition in the split_by-column instead of depends_on. (The other is that if you use depends_on the expected rewards will not get updated properly). But depends_on is still useful, for example if you want to estimate the effect of group on parameters. As an example we can simulate a dataset with two groups that have different decision thresholds:"
   ]
  },
  {
   "cell_type": "code",
   "execution_count": null,
   "metadata": {},
   "outputs": [],
   "source": [
    "data1 = hddm.generate.gen_rand_rlddm_data(\n",
    "    a=1, t=0.3, alpha=0.4, scaler=2, p_upper=0.8, p_lower=0.2, subjs=50, size=50\n",
    ")\n",
    "data1[\"group\"] = \"group1\"\n",
    "data2 = hddm.generate.gen_rand_rlddm_data(\n",
    "    a=2, t=0.3, alpha=0.4, scaler=2, p_upper=0.8, p_lower=0.2, subjs=50, size=50\n",
    ")\n",
    "data2[\"group\"] = \"group2\"\n",
    "group_data = data1.append(data2)\n",
    "group_data[\"q_init\"] = 0.5\n",
    "m = hddm.HDDMrl(\n",
    "    group_data, depends_on={\"v\": \"group\", \"a\": \"group\", \"t\": \"group\", \"alpha\": \"group\"}\n",
    ")\n",
    "m.sample(1500, burn=500, dbname=\"traces.db\", db=\"pickle\")"
   ]
  },
  {
   "cell_type": "code",
   "execution_count": null,
   "metadata": {},
   "outputs": [],
   "source": [
    "# the plot shows that the model was able to recover the different decision threshold across groups.\n",
    "a_group1, a_group2 = m.nodes_db.node[[\"a(group1)\", \"a(group2)\"]]\n",
    "hddm.analyze.plot_posterior_nodes([a_group1, a_group2])\n",
    "plt.xlabel(\"decision threshold\")\n",
    "plt.ylabel(\"Posterior probability\")\n",
    "plt.xlim(0.7, 2.3)\n",
    "plt.title(\"Posterior of decision threshold group means\")"
   ]
  },
  {
   "cell_type": "markdown",
   "metadata": {},
   "source": [
    "## 11. Probabilistic binary outcomes vs. normally distributed outcomes\n",
    "The examples so far have all been using a task structure where the outcomes are binary and probabilistic. But the model can also be applied to other types of outcomes. Here we show how you can generate and model data with normally distributed outcomes. As you will see you don't have to do any modifications to the model estimation process, but you have to change the input for generating data. Also note that the scaling parameter (v) will scale negatively with the values of the observed outcomes because the combined drift rate needs to be plausible."
   ]
  },
  {
   "cell_type": "code",
   "execution_count": null,
   "metadata": {},
   "outputs": [],
   "source": [
    "# This is how we generated data so far, defining the probability of reward (1) for actions/stimuli associated with upper and lower boundary.\n",
    "# binary probabilistic outcomes\n",
    "hddm.generate.gen_rand_rlddm_data(\n",
    "    a=2, t=0.3, scaler=2, alpha=0.2, size=10, p_upper=0.2, p_lower=0.8\n",
    ")"
   ]
  },
  {
   "cell_type": "code",
   "execution_count": null,
   "metadata": {},
   "outputs": [],
   "source": [
    "# If instead the outcomes are drawn from a normal distribution you will have to set binary_outcome to False and instead of p_upper and p_upper define the mean (mu) and sd\n",
    "# of the normal distribution for both alternatives. Note that we change the initial q-value to 0, and that we reduce the scaling factor.\n",
    "# normally distributed outcomes\n",
    "hddm.generate.gen_rand_rlddm_data(\n",
    "    a=2,\n",
    "    t=0.3,\n",
    "    scaler=0.2,\n",
    "    alpha=0.2,\n",
    "    size=10,\n",
    "    mu_upper=8,\n",
    "    mu_lower=2,\n",
    "    sd_upper=1,\n",
    "    sd_lower=1,\n",
    "    binary_outcome=False,\n",
    "    q_init=0,\n",
    ")"
   ]
  },
  {
   "cell_type": "code",
   "execution_count": null,
   "metadata": {},
   "outputs": [],
   "source": [
    "# We can generate a dataset where 30 subjects perform 50 trials each. Note that we set the scaler to be lower than for the binary outcomes as otherwise\n",
    "# the resulting drift will be unrealistically high.\n",
    "norm_data = hddm.generate.gen_rand_rlddm_data(\n",
    "    a=2,\n",
    "    t=0.3,\n",
    "    scaler=0.2,\n",
    "    alpha=0.2,\n",
    "    size=50,\n",
    "    subjs=30,\n",
    "    mu_upper=8,\n",
    "    mu_lower=2,\n",
    "    sd_upper=2,\n",
    "    sd_lower=2,\n",
    "    binary_outcome=False,\n",
    "    q_init=0,\n",
    ")"
   ]
  },
  {
   "cell_type": "code",
   "execution_count": null,
   "metadata": {},
   "outputs": [],
   "source": [
    "# and then we can do estimation as usual\n",
    "# but first we need to define inital q-value\n",
    "norm_data[\"q_init\"] = 0\n",
    "m_norm = hddm.HDDMrl(norm_data)\n",
    "m_norm.sample(1500, burn=500, dbname=\"traces.db\", db=\"pickle\")\n",
    "m_norm.print_stats()"
   ]
  },
  {
   "cell_type": "markdown",
   "metadata": {},
   "source": [
    "## 12. HDDMrlRegressor\n",
    "\n",
    "As of version 0.7.6. HDDM includes a module for estimating the impact of continuous regressor onto RLDDM parameters. The module, called HDDMrlRegressor, works the same way as the HDDMRegressor for the normal DDM. The method allows estimation of the association of e.g. neural measures onto parameters. To illustrate the method we extend the function to generate rlddm_data by adding a normally distributed regressor and including a coefficient called 'neural'.Note that to run the HDDMrlRegressor you need to include alpha when specifying the model. For more information on how to set up regressor models look at the tutorial for HDDM."
   ]
  },
  {
   "cell_type": "code",
   "execution_count": null,
   "metadata": {},
   "outputs": [],
   "source": [
    "# function to generate rlddm-data that adds a neural regressor to decision threshold\n",
    "def gen_rand_reg_rlddm_data(\n",
    "    a,\n",
    "    t,\n",
    "    scaler,\n",
    "    alpha,\n",
    "    neural,\n",
    "    size=1,\n",
    "    p_upper=1,\n",
    "    p_lower=0,\n",
    "    z=0.5,\n",
    "    q_init=0.5,\n",
    "    split_by=0,\n",
    "    subjs=1,\n",
    "):\n",
    "    all_data = []\n",
    "    n = size\n",
    "    # set sd for variables to generate subject-parameters from group distribution\n",
    "    sd_t = 0.02\n",
    "    sd_a = 0.1\n",
    "    sd_alpha = 0.1\n",
    "    sd_v = 0.25\n",
    "    # save parameter values as group-values\n",
    "    tg = t\n",
    "    ag = a\n",
    "    alphag = alpha\n",
    "    scalerg = scaler\n",
    "    for s in range(0, subjs):\n",
    "        t = (\n",
    "            np.maximum(0.05, np.random.normal(loc=tg, scale=sd_t, size=1))\n",
    "            if subjs > 1\n",
    "            else tg\n",
    "        )\n",
    "        a = (\n",
    "            np.maximum(0.05, np.random.normal(loc=ag, scale=sd_a, size=1))\n",
    "            if subjs > 1\n",
    "            else ag\n",
    "        )\n",
    "        alpha = (\n",
    "            np.minimum(\n",
    "                np.minimum(\n",
    "                    np.maximum(0.001, np.random.normal(loc=alphag, scale=sd_a, size=1)),\n",
    "                    alphag + alphag,\n",
    "                ),\n",
    "                1,\n",
    "            )\n",
    "            if subjs > 1\n",
    "            else alphag\n",
    "        )\n",
    "        scaler = (\n",
    "            np.random.normal(loc=scalerg, scale=sd_v, size=1) if subjs > 1 else scalerg\n",
    "        )\n",
    "        # create a normalized regressor that is combined with the neural coefficient to create trial-by-trial values for decision threshold\n",
    "        neural_reg = np.random.normal(0, 1, size=n)\n",
    "        q_up = np.tile([q_init], n)\n",
    "        q_low = np.tile([q_init], n)\n",
    "        response = np.tile([0.5], n)\n",
    "        feedback = np.tile([0.5], n)\n",
    "        rt = np.tile([0], n)\n",
    "        rew_up = np.random.binomial(1, p_upper, n).astype(float)\n",
    "        rew_low = np.random.binomial(1, p_lower, n).astype(float)\n",
    "        sim_drift = np.tile([0], n)\n",
    "        subj_idx = np.tile([s], n)\n",
    "        d = {\n",
    "            \"q_up\": q_up,\n",
    "            \"q_low\": q_low,\n",
    "            \"sim_drift\": sim_drift,\n",
    "            \"rew_up\": rew_up,\n",
    "            \"rew_low\": rew_low,\n",
    "            \"response\": response,\n",
    "            \"rt\": rt,\n",
    "            \"feedback\": feedback,\n",
    "            \"subj_idx\": subj_idx,\n",
    "            \"split_by\": split_by,\n",
    "            \"trial\": 1,\n",
    "            \"neural_reg\": neural_reg,\n",
    "        }\n",
    "        df = pd.DataFrame(data=d)\n",
    "        df = df[\n",
    "            [\n",
    "                \"q_up\",\n",
    "                \"q_low\",\n",
    "                \"sim_drift\",\n",
    "                \"rew_up\",\n",
    "                \"rew_low\",\n",
    "                \"response\",\n",
    "                \"rt\",\n",
    "                \"feedback\",\n",
    "                \"subj_idx\",\n",
    "                \"split_by\",\n",
    "                \"trial\",\n",
    "                \"neural_reg\",\n",
    "            ]\n",
    "        ]\n",
    "        # generate data trial-by-trial using the Intercept (a), regressor (neural_reg) and coefficient (neural) for decision threshold.\n",
    "        data, params = hddm.generate.gen_rand_data(\n",
    "            {\n",
    "                \"a\": a + neural * df.loc[0, \"neural_reg\"],\n",
    "                \"t\": t,\n",
    "                \"v\": df.loc[0, \"sim_drift\"],\n",
    "                \"z\": z,\n",
    "            },\n",
    "            subjs=1,\n",
    "            size=1,\n",
    "        )\n",
    "        df.loc[0, \"response\"] = data.response[0]\n",
    "        df.loc[0, \"rt\"] = data.rt[0]\n",
    "        if data.response[0] == 1.0:\n",
    "            df.loc[0, \"feedback\"] = df.loc[0, \"rew_up\"]\n",
    "        else:\n",
    "            df.loc[0, \"feedback\"] = df.loc[0, \"rew_low\"]\n",
    "\n",
    "        for i in range(1, n):\n",
    "            df.loc[i, \"trial\"] = i + 1\n",
    "            df.loc[i, \"q_up\"] = (\n",
    "                df.loc[i - 1, \"q_up\"] * (1 - df.loc[i - 1, \"response\"])\n",
    "            ) + (\n",
    "                (df.loc[i - 1, \"response\"])\n",
    "                * (\n",
    "                    df.loc[i - 1, \"q_up\"]\n",
    "                    + (alpha * (df.loc[i - 1, \"rew_up\"] - df.loc[i - 1, \"q_up\"]))\n",
    "                )\n",
    "            )\n",
    "            df.loc[i, \"q_low\"] = (\n",
    "                df.loc[i - 1, \"q_low\"] * (df.loc[i - 1, \"response\"])\n",
    "            ) + (\n",
    "                (1 - df.loc[i - 1, \"response\"])\n",
    "                * (\n",
    "                    df.loc[i - 1, \"q_low\"]\n",
    "                    + (alpha * (df.loc[i - 1, \"rew_low\"] - df.loc[i - 1, \"q_low\"]))\n",
    "                )\n",
    "            )\n",
    "            df.loc[i, \"sim_drift\"] = (df.loc[i, \"q_up\"] - df.loc[i, \"q_low\"]) * (scaler)\n",
    "            data, params = hddm.generate.gen_rand_data(\n",
    "                {\n",
    "                    \"a\": a + neural * df.loc[i, \"neural_reg\"],\n",
    "                    \"t\": t,\n",
    "                    \"v\": df.loc[i, \"sim_drift\"],\n",
    "                    \"z\": z,\n",
    "                },\n",
    "                subjs=1,\n",
    "                size=1,\n",
    "            )\n",
    "            df.loc[i, \"response\"] = data.response[0]\n",
    "            df.loc[i, \"rt\"] = data.rt[0]\n",
    "            if data.response[0] == 1.0:\n",
    "                df.loc[i, \"feedback\"] = df.loc[i, \"rew_up\"]\n",
    "            else:\n",
    "                df.loc[i, \"feedback\"] = df.loc[i, \"rew_low\"]\n",
    "        all_data.append(df)\n",
    "    all_data = pd.concat(all_data, axis=0)\n",
    "    all_data = all_data[\n",
    "        [\n",
    "            \"q_up\",\n",
    "            \"q_low\",\n",
    "            \"sim_drift\",\n",
    "            \"response\",\n",
    "            \"rt\",\n",
    "            \"feedback\",\n",
    "            \"subj_idx\",\n",
    "            \"split_by\",\n",
    "            \"trial\",\n",
    "            \"neural_reg\",\n",
    "        ]\n",
    "    ]\n",
    "\n",
    "    return all_data"
   ]
  },
  {
   "cell_type": "code",
   "execution_count": null,
   "metadata": {},
   "outputs": [],
   "source": [
    "# Create data with function defined above.\n",
    "# This will create trial-by-trial values for decision threshold (a) by adding the coefficient neural (here set to 0.2)\n",
    "# multiplied by a normalized regressor (neural_reg) to the 'Intercept' value of a (here set to 1)\n",
    "data_neural = gen_rand_reg_rlddm_data(\n",
    "    a=1,\n",
    "    t=0.3,\n",
    "    scaler=2,\n",
    "    alpha=0.2,\n",
    "    neural=0.2,\n",
    "    size=100,\n",
    "    p_upper=0.7,\n",
    "    p_lower=0.3,\n",
    "    subjs=25,\n",
    ")\n",
    "data_neural[\"q_init\"] = 0.5\n",
    "data_neural.head()"
   ]
  },
  {
   "cell_type": "code",
   "execution_count": null,
   "metadata": {},
   "outputs": [],
   "source": [
    "# run a regressor model estimating the impact of 'neural' on decision threshold a. This should estimate the coefficient a_neural_reg to be 0.2\n",
    "# to run the HDDMrlRegressor you need to include alpha\n",
    "m_reg = hddm.HDDMrlRegressor(\n",
    "    data_neural, \"a ~ neural_reg\", include=[\"v\", \"a\", \"t\", \"alpha\"]\n",
    ")\n",
    "m_reg.sample(1000, burn=250)\n",
    "m_reg.print_stats()"
   ]
  },
  {
   "cell_type": "markdown",
   "metadata": {},
   "source": [
    "## 13. Regular RL without RT\n",
    "HDDMrl also includes a module to run an RL-model that uses softmax to transform q-values to probability of choosing options associated with upper (response=1) or lower (response=0) boundary. To run this model you type hddm.Hrl instead of hddm.HDDMrl. The setup is the same as for HDDMrl, and for now, the model won't run if you don't include an rt-column. This will be fixed for a future version, but for now, if you don't have RTs you can just create an rt-column where you set all rts to e.g. 0.5. You can choose to estimate separate learning rates for positive and negative learning rate by setting dual=True (see [here](#9.-Separate-learning-rates-for-positive-and-negative-prediction-errors) for more information). The model will by default estimate posterior distributions for the alpha and v parameters. The probability of choosing upper boundary is captured as: <br><br>\n",
    "&nbsp;&nbsp;&nbsp;&nbsp;&nbsp;&nbsp;$p_{up} =(e^{-2*z*d_t}-1)/ (e^{-2*d_t}-1)$, <br><br>\n",
    "where ${d_t}=q_{up_t}-q_{low}*v$ and z represents starting point (which for now is fixed to be 0.5). <br>\n",
    "This calculation is equivalent to soft-max transformation when z=0.5."
   ]
  },
  {
   "cell_type": "code",
   "execution_count": null,
   "metadata": {},
   "outputs": [],
   "source": [
    "# run the model by calling hddm.Hrl (instead of hddm.HDDM for normal model and hddm.HDDMrl for rlddm-model)\n",
    "m_rl = hddm.Hrl(data)\n",
    "# set sample and burn-in\n",
    "m_rl.sample(1500, burn=500, dbname=\"traces.db\", db=\"pickle\")\n",
    "# print stats to get an overview of posterior distribution of estimated parameters\n",
    "m_rl.print_stats()"
   ]
  },
  {
   "cell_type": "markdown",
   "metadata": {},
   "source": [
    "Parameter estimates from the pure RL-model are a bit different compared to the RLDDM. This is to be expected as probability of choice in DDM is dependent both on the decsision threshold and the scaled difference in q-values, whereas the RL model only uses the scaled difference in q-values. "
   ]
  },
  {
   "cell_type": "code",
   "execution_count": null,
   "metadata": {},
   "outputs": [],
   "source": [
    "m_rl.plot_posteriors()"
   ]
  },
  {
   "cell_type": "markdown",
   "metadata": {},
   "source": [
    "__Fig.__ Mixing and autocorrelation looks good."
   ]
  },
  {
   "cell_type": "code",
   "execution_count": null,
   "metadata": {},
   "outputs": [],
   "source": [
    "# estimate convergence\n",
    "models = []\n",
    "for i in range(3):\n",
    "    m = hddm.Hrl(data=data)\n",
    "    m.sample(1500, burn=500, dbname=\"traces.db\", db=\"pickle\")\n",
    "    models.append(m)\n",
    "# get max gelman-statistic value. shouldn't be higher than 1.1\n",
    "np.max(list(gelman_rubin(models).values()))"
   ]
  },
  {
   "cell_type": "markdown",
   "metadata": {},
   "source": [
    "Convergence looks good, i.e. no parameters with gelman-rubin statistic > 1.1."
   ]
  },
  {
   "cell_type": "code",
   "execution_count": null,
   "metadata": {},
   "outputs": [],
   "source": [
    "# Create a new model that has all traces concatenated\n",
    "# of individual models.\n",
    "m_rl = kabuki.utils.concat_models(models)"
   ]
  },
  {
   "cell_type": "code",
   "execution_count": null,
   "metadata": {},
   "outputs": [],
   "source": [
    "alpha, v = m_rl.nodes_db.node[[\"alpha\", \"v\"]]\n",
    "samples = {\"alpha\": alpha.trace(), \"v\": v.trace()}\n",
    "samp = pd.DataFrame(data=samples)\n",
    "\n",
    "\n",
    "def corrfunc(x, y, **kws):\n",
    "    r, _ = stats.pearsonr(x, y)\n",
    "    ax = plt.gca()\n",
    "    ax.annotate(\"r = {:.2f}\".format(r), xy=(0.1, 0.9), xycoords=ax.transAxes)\n",
    "\n",
    "\n",
    "g = sns.PairGrid(samp, palette=[\"red\"])\n",
    "g.map_upper(plt.scatter, s=10)\n",
    "g.map_diag(sns.distplot, kde=False)\n",
    "g.map_lower(sns.kdeplot, cmap=\"Blues_d\")\n",
    "\n",
    "g.map_lower(corrfunc)"
   ]
  },
  {
   "cell_type": "markdown",
   "metadata": {},
   "source": [
    "__Fig.__ The correlation in the posterior distribution for alpha and v/scaling is somewhat negative."
   ]
  },
  {
   "cell_type": "markdown",
   "metadata": {},
   "source": [
    "## Posterior predictive check\n",
    "We can also do posterior predictive check on the RL-model by generating new data with hddm.generate.gen_rand_rl_data."
   ]
  },
  {
   "cell_type": "code",
   "execution_count": null,
   "metadata": {},
   "outputs": [],
   "source": [
    "# create empty dataframe to store simulated data\n",
    "sim_data = pd.DataFrame()\n",
    "# create a column samp to be used to identify the simulated data sets\n",
    "data[\"samp\"] = 0\n",
    "# load traces\n",
    "traces = m_rl.get_traces()\n",
    "# decide how many times to repeat simulation process. repeating this multiple times is generally recommended as it better captures the uncertainty in the posterior distribution, but will also take some time\n",
    "for i in tqdm(range(1, 51)):\n",
    "    # randomly select a row in the traces to use for extracting parameter values\n",
    "    sample = np.random.randint(0, traces.shape[0] - 1)\n",
    "    # loop through all subjects in observed data\n",
    "    for s in data.subj_idx.unique():\n",
    "        # get number of trials for each condition.\n",
    "        size0 = len(\n",
    "            data[(data[\"subj_idx\"] == s) & (data[\"split_by\"] == 0)].trial.unique()\n",
    "        )\n",
    "        size1 = len(\n",
    "            data[(data[\"subj_idx\"] == s) & (data[\"split_by\"] == 1)].trial.unique()\n",
    "        )\n",
    "        size2 = len(\n",
    "            data[(data[\"subj_idx\"] == s) & (data[\"split_by\"] == 2)].trial.unique()\n",
    "        )\n",
    "        # set parameter values for simulation\n",
    "        scaler = traces.loc[sample, \"v_subj.\" + str(s)]\n",
    "        alphaInv = traces.loc[sample, \"alpha_subj.\" + str(s)]\n",
    "        # take inverse logit of estimated alpha\n",
    "        alpha = np.exp(alphaInv) / (1 + np.exp(alphaInv))\n",
    "        # simulate data for each condition changing only values of size, p_upper, p_lower and split_by between conditions.\n",
    "        sim_data0 = hddm.generate.gen_rand_rl_data(\n",
    "            scaler=scaler, alpha=alpha, size=size0, p_upper=0.8, p_lower=0.2, split_by=0\n",
    "        )\n",
    "        sim_data1 = hddm.generate.gen_rand_rl_data(\n",
    "            scaler=scaler, alpha=alpha, size=size1, p_upper=0.7, p_lower=0.3, split_by=1\n",
    "        )\n",
    "        sim_data2 = hddm.generate.gen_rand_rl_data(\n",
    "            scaler=scaler, alpha=alpha, size=size2, p_upper=0.6, p_lower=0.4, split_by=2\n",
    "        )\n",
    "        # append the conditions\n",
    "        sim_data0 = sim_data0.append([sim_data1, sim_data2], ignore_index=True)\n",
    "        # assign subj_idx\n",
    "        sim_data0[\"subj_idx\"] = s\n",
    "        # identify that these are simulated data\n",
    "        sim_data0[\"type\"] = \"simulated\"\n",
    "        # identify the simulated data\n",
    "        sim_data0[\"samp\"] = i\n",
    "        # append data from each subject\n",
    "        sim_data = sim_data.append(sim_data0, ignore_index=True)\n",
    "# combine observed and simulated data\n",
    "ppc_rl_data = data[\n",
    "    [\"subj_idx\", \"response\", \"split_by\", \"trial\", \"feedback\", \"samp\"]\n",
    "].copy()\n",
    "ppc_rl_data[\"type\"] = \"observed\"\n",
    "ppc_rl_sdata = sim_data[\n",
    "    [\"subj_idx\", \"response\", \"split_by\", \"trial\", \"feedback\", \"type\", \"samp\"]\n",
    "].copy()\n",
    "ppc_rl_data = ppc_rl_data.append(ppc_rl_sdata)"
   ]
  },
  {
   "cell_type": "code",
   "execution_count": null,
   "metadata": {},
   "outputs": [],
   "source": [
    "# for practical reasons we only look at the first 40 trials for each subject in a given condition\n",
    "plot_ppc_rl_data = ppc_rl_data[ppc_rl_data.trial < 41].copy()"
   ]
  },
  {
   "cell_type": "code",
   "execution_count": null,
   "metadata": {},
   "outputs": [],
   "source": [
    "# bin trials to for smoother estimate of response proportion across learning\n",
    "plot_ppc_rl_data[\"bin_trial\"] = pd.cut(\n",
    "    plot_ppc_rl_data.trial, 11, labels=np.linspace(0, 10, 11)\n",
    ").astype(\"int64\")\n",
    "# calculate means for each sample\n",
    "sums = (\n",
    "    plot_ppc_rl_data.groupby([\"bin_trial\", \"split_by\", \"samp\", \"type\"])\n",
    "    .mean()\n",
    "    .reset_index()\n",
    ")\n",
    "# calculate the overall mean response across samples\n",
    "ppc_rl_sim = sums.groupby([\"bin_trial\", \"split_by\", \"type\"]).mean().reset_index()\n",
    "# initiate columns that will have the upper and lower bound of the hpd\n",
    "ppc_rl_sim[\"upper_hpd\"] = 0\n",
    "ppc_rl_sim[\"lower_hpd\"] = 0\n",
    "for i in range(0, ppc_rl_sim.shape[0]):\n",
    "    # calculate the hpd/hdi of the predicted mean responses across bin_trials\n",
    "    hdi = pymc.utils.hpd(\n",
    "        sums.response[\n",
    "            (sums[\"bin_trial\"] == ppc_rl_sim.bin_trial[i])\n",
    "            & (sums[\"split_by\"] == ppc_rl_sim.split_by[i])\n",
    "            & (sums[\"type\"] == ppc_rl_sim.type[i])\n",
    "        ],\n",
    "        alpha=0.1,\n",
    "    )\n",
    "    ppc_rl_sim.loc[i, \"upper_hpd\"] = hdi[1]\n",
    "    ppc_rl_sim.loc[i, \"lower_hpd\"] = hdi[0]\n",
    "# calculate error term as the distance from upper bound to mean\n",
    "ppc_rl_sim[\"up_err\"] = ppc_rl_sim[\"upper_hpd\"] - ppc_rl_sim[\"response\"]\n",
    "ppc_rl_sim[\"low_err\"] = ppc_rl_sim[\"response\"] - ppc_rl_sim[\"lower_hpd\"]\n",
    "ppc_rl_sim[\"model\"] = \"RL\""
   ]
  },
  {
   "cell_type": "code",
   "execution_count": null,
   "metadata": {},
   "outputs": [],
   "source": [
    "# plotting evolution of choice proportion for best option across learning for observed and simulated data. Compared for RL and RLDDM models, both with single learnign rate.\n",
    "fig, axs = plt.subplots(figsize=(15, 5), nrows=1, ncols=3, sharex=True, sharey=True)\n",
    "for i in range(0, 3):\n",
    "    ax = axs[i]\n",
    "    d_single = ppc_sim[(ppc_sim.split_by == i) & (ppc_sim.type == \"simulated\")]\n",
    "    # slightly move bin_trial to avoid overlap in errorbars\n",
    "    d_single[\"bin_trial\"] += 0.2\n",
    "    ax.errorbar(\n",
    "        d_single.bin_trial,\n",
    "        d_single.response,\n",
    "        yerr=[d_single.low_err, d_single.up_err],\n",
    "        label=\"simulated_RLDDM\",\n",
    "        color=\"orange\",\n",
    "    )\n",
    "    ax = axs[i]\n",
    "    d_rl = ppc_rl_sim[(ppc_rl_sim.split_by == i) & (ppc_rl_sim.type == \"simulated\")]\n",
    "    ax.errorbar(\n",
    "        d_rl.bin_trial,\n",
    "        d_rl.response,\n",
    "        yerr=[d_rl.low_err, d_rl.up_err],\n",
    "        label=\"simulated_RL\",\n",
    "        color=\"green\",\n",
    "    )\n",
    "    ax = axs[i]\n",
    "    d = ppc_sim[(ppc_dual_sim.split_by == i) & (ppc_dual_sim.type == \"observed\")]\n",
    "    ax.plot(d.bin_trial, d.response, linewidth=3, label=\"observed\")\n",
    "    ax.set_title(\"split_by = %i\" % i, fontsize=20)\n",
    "    ax.set_ylabel(\"mean response\")\n",
    "    ax.set_xlabel(\"trial\")\n",
    "plt.xlim(-0.5, 10.5)\n",
    "plt.legend()"
   ]
  },
  {
   "cell_type": "markdown",
   "metadata": {},
   "source": [
    "__Fig.__ The predicted choice for the RL-model is very similar to what was predicted in the RLDDM. That is not surprising given that they use the same calculation to get the choice likelihood. The difference between them is instead that the RLDDM could potentially detect the unique contribution of the scaling/drift parameter and the decision threshold onto choice."
   ]
  },
  {
   "cell_type": "markdown",
   "metadata": {},
   "source": [
    "### Misprediction across learning\n",
    "Another way to visualize this is to look at how the predicted choice misses on the observed across learning, i.e. predicted-observed. As for the other plots we see that the two methods are very similar. "
   ]
  },
  {
   "cell_type": "code",
   "execution_count": null,
   "metadata": {},
   "outputs": [],
   "source": [
    "# rl\n",
    "error_prediction = (\n",
    "    plot_ppc_rl_data.groupby([\"split_by\", \"type\", \"bin_trial\"])[\"response\"]\n",
    "    .mean()\n",
    "    .reset_index()\n",
    ")\n",
    "ep = error_prediction.pivot_table(\n",
    "    index=[\"split_by\", \"bin_trial\"], columns=\"type\", values=\"response\"\n",
    ").reset_index()\n",
    "ep[\"diff\"] = ep[\"simulated\"] - ep[\"observed\"]\n",
    "ep[\"model\"] = \"RL\"\n",
    "# rlddm\n",
    "error_prediction = (\n",
    "    plot_ppc_data.groupby([\"split_by\", \"type\", \"bin_trial\"])[\"response\"]\n",
    "    .mean()\n",
    "    .reset_index()\n",
    ")\n",
    "ep_rlddm = error_prediction.pivot_table(\n",
    "    index=[\"split_by\", \"bin_trial\"], columns=\"type\", values=\"response\"\n",
    ").reset_index()\n",
    "ep_rlddm[\"diff\"] = ep_rlddm[\"simulated\"] - ep_rlddm[\"observed\"]\n",
    "ep_rlddm[\"model\"] = \"RLDDM\"\n",
    "# combine\n",
    "ep = ep.append(ep_rlddm)\n",
    "# plot\n",
    "g = sns.relplot(\n",
    "    x=\"bin_trial\",\n",
    "    y=\"diff\",\n",
    "    col=\"split_by\",\n",
    "    hue=\"model\",\n",
    "    kind=\"line\",\n",
    "    ci=False,\n",
    "    data=ep,\n",
    "    palette=\"Set2_r\",\n",
    ")\n",
    "g.map(plt.axhline, y=0, ls=\":\", c=\".5\")"
   ]
  },
  {
   "cell_type": "code",
   "execution_count": null,
   "metadata": {},
   "outputs": [],
   "source": []
  }
 ],
 "metadata": {
  "interpreter": {
   "hash": "a445e8b86844784ad439c05402e9f190af217ba9ac3e10cbacead74ef6ea1c6a"
  },
  "kernelspec": {
   "display_name": "Python 3.6.13 64-bit ('hddm': conda)",
   "name": "python3"
  },
  "language_info": {
   "codemirror_mode": {
    "name": "ipython",
    "version": 3
   },
   "file_extension": ".py",
   "mimetype": "text/x-python",
   "name": "python",
   "nbconvert_exporter": "python",
   "pygments_lexer": "ipython3",
   "version": "3.6.13"
  }
 },
 "nbformat": 4,
 "nbformat_minor": 4
}
